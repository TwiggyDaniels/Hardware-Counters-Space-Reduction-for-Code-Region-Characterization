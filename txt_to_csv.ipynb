{
 "cells": [
  {
   "cell_type": "code",
   "execution_count": 1,
   "metadata": {},
   "outputs": [
    {
     "name": "stdout",
     "output_type": "stream",
     "text": [
      "NAS-cleaned.txt\n",
      "Add_BT -- predicted as: Add  [4824.0, 4824.0, 4824.0, 4824.0, 3210.0, 4824.0, 4824.0, 4824.0, 4824.0, 4824.0, 4824.0, 3876.0, 4824.0, 4824.0, 3435.0, 4646.0, 4824.0, 1614.0, 4645.0, 4646.0, 3078.0, 4824.0, 4639.0]\n",
      "Scale_normztox -- predicted as: Scale  [1824.0, 1824.0, 1824.0, 1824.0, 1824.0, 1824.0, 1824.0, 1824.0, 1824.0, 1824.0, 1824.0, 1824.0, 1824.0, 1824.0, 1824.0, 1824.0, 1824.0, 1824.0, 1824.0, 1824.0, 1824.0, 1824.0, 1824.0]\n",
      "Triad_BT -- predicted as: Test  [24.0, 0, 24.0, 24.0, 24.0, 0, 0, 0, 24.0, 24.0, 0, 24.0, 0, 0, 24.0, 24.0, 24.0, 24.0, 16.0, 24.0, 0, 15.0, 0]\n",
      "Triad_Red_rhorr -- predicted as: Reduction  [777.0, 334.0, 512.0, 814.0, 531.0, 1824.0, 1813.0, 1753.0, 1824.0, 627.0, 433.0, 1766.0, 1823.0, 1824.0, 664.0, 228.0, 494.0, 1822.0, 1773.0, 452.0, 446.0, 1821.0, 578.0]\n",
      "Triad_Red_rhorr -- predicted as: Test  [1047.0, 1490.0, 1309.0, 1010.0, 1293.0, 0, 11.0, 71.0, 0, 1197.0, 1391.0, 58.0, 1.0, 0, 1160.0, 1595.0, 1330.0, 2.0, 51.0, 1372.0, 1376.0, 3.0, 1233.0]\n",
      "Triad_multi_z_alpha_p -- predicted as: 2D4PStencil  [45600.0, 45600.0, 45600.0, 45600.0, 45600.0, 45600.0, 45600.0, 45598.0, 45600.0, 33996.0, 45591.0, 21916.0, 45599.0, 45600.0, 29716.0, 45600.0, 45600.0, 45600.0, 45600.0, 45600.0, 45600.0, 45599.0, 45150.0]\n",
      "Triad_norm_temps -- predicted as: Reduction  [158.0, 182.0, 6.0, 519.0, 18.0, 1824.0, 1814.0, 1823.0, 1824.0, 458.0, 7.0, 1823.0, 1822.0, 1824.0, 856.0, 7.0, 21.0, 1823.0, 1802.0, 25.0, 5.0, 1823.0, 537.0]\n",
      "Triad_norm_temps -- predicted as: Test  [1666.0, 1642.0, 1816.0, 1305.0, 1806.0, 0, 10.0, 1.0, 0, 1366.0, 1817.0, 1.0, 2.0, 0, 968.0, 1817.0, 1803.0, 1.0, 22.0, 1799.0, 1807.0, 1.0, 1273.0]\n",
      "Triad_pr_beta_p -- predicted as: 2PStencil  [1.0, 0, 0, 0, 0, 0, 0, 0, 0, 0, 0, 0, 0, 0, 0, 0, 0, 0, 0, 2.0, 0, 0, 0]\n",
      "Triad_pr_beta_p -- predicted as: Triad  [45599.0, 45600.0, 41757.0, 45600.0, 45600.0, 45600.0, 45600.0, 45600.0, 45409.0, 45600.0, 45600.0, 45600.0, 45600.0, 45600.0, 45600.0, 45600.0, 45600.0, 45600.0, 45600.0, 45598.0, 45600.0, 45600.0, 45600.0]\n",
      "Triad_similar_l2norm -- predicted as: Test  [96.0, 0, 96.0, 96.0, 96.0, 0, 0, 0, 96.0, 96.0, 0, 96.0, 0, 0, 96.0, 96.0, 96.0, 96.0, 91.0, 96.0, 0, 76.0, 0]\n",
      "Triad_similar_qAp -- predicted as: Reduction  [45600.0, 45600.0, 45600.0, 45600.0, 45600.0, 45600.0, 45600.0, 45600.0, 45600.0, 45600.0, 45600.0, 45600.0, 45600.0, 45600.0, 45600.0, 45600.0, 45600.0, 45600.0, 45600.0, 45600.0, 45600.0, 0, 45600.0]\n",
      "Triad_ssor_triad -- predicted as: Triad  [6024.0, 6024.0, 3012.0, 6024.0, 6024.0, 6024.0, 6024.0, 6024.0, 5995.0, 6024.0, 6024.0, 6024.0, 6024.0, 6024.0, 6024.0, 6024.0, 6024.0, 6024.0, 6024.0, 6024.0, 6024.0, 6024.0, 6024.0]\n",
      "Triad_BT -- predicted as: Reduction  [0, 24.0, 0, 0, 0, 24.0, 24.0, 24.0, 0, 0, 24.0, 0, 24.0, 24.0, 0, 0, 0, 0, 8.0, 0, 24.0, 9.0, 0]\n",
      "Triad_similar_l2norm -- predicted as: Reduction  [0, 96.0, 0, 0, 0, 96.0, 96.0, 96.0, 0, 0, 96.0, 0, 96.0, 96.0, 0, 0, 0, 0, 5.0, 0, 96.0, 20.0, 0]\n",
      "Triad_Red_rhorr -- predicted as: 2D4PStencil  [0, 0, 3.0, 0, 0, 0, 0, 0, 0, 0, 0, 0, 0, 0, 0, 1.0, 0, 0, 0, 0, 2.0, 0, 13.0]\n",
      "Triad_norm_temps -- predicted as: 2D4PStencil  [0, 0, 2.0, 0, 0, 0, 0, 0, 0, 0, 0, 0, 0, 0, 0, 0, 0, 0, 0, 0, 12.0, 0, 14.0]\n",
      "Triad_pr_beta_p -- predicted as: 2D4PStencil  [0, 0, 3843.0, 0, 0, 0, 0, 0, 191.0, 0, 0, 0, 0, 0, 0, 0, 0, 0, 0, 0, 0, 0, 0]\n",
      "Triad_ssor_triad -- predicted as: 2D4PStencil  [0, 0, 3012.0, 0, 0, 0, 0, 0, 29.0, 0, 0, 0, 0, 0, 0, 0, 0, 0, 0, 0, 0, 0, 0]\n",
      "Add_BT -- predicted as: Scale  [0, 0, 0, 0, 179.0, 0, 0, 0, 0, 0, 0, 0, 0, 0, 1389.0, 178.0, 0, 3210.0, 179.0, 178.0, 0, 0, 185.0]\n",
      "Add_BT -- predicted as: Triad  [0, 0, 0, 0, 1435.0, 0, 0, 0, 0, 0, 0, 948.0, 0, 0, 0, 0, 0, 0, 0, 0, 1746.0, 0, 0]\n",
      "Triad_multi_z_alpha_p -- predicted as: Test  [0, 0, 0, 0, 0, 0, 0, 2.0, 0, 0, 9.0, 23684.0, 1.0, 0, 15884.0, 0, 0, 0, 0, 0, 0, 1.0, 450.0]\n",
      "Triad_multi_z_alpha_p -- predicted as: Triad  [0, 0, 0, 0, 0, 0, 0, 0, 0, 11604.0, 0, 0, 0, 0, 0, 0, 0, 0, 0, 0, 0, 0, 0]\n",
      "Triad_similar_qAp -- predicted as: Gather  [0, 0, 0, 0, 0, 0, 0, 0, 0, 0, 0, 0, 0, 0, 0, 0, 0, 0, 0, 0, 0, 45600.0, 0]\n",
      "Triad_BT -- predicted as: Stride2  [0, 0, 0, 0, 0, 0, 0, 0, 0, 0, 0, 0, 0, 0, 0, 0, 0, 0, 0, 0, 0, 0, 24.0]\n",
      "Triad_similar_l2norm -- predicted as: Stride2  [0, 0, 0, 0, 0, 0, 0, 0, 0, 0, 0, 0, 0, 0, 0, 0, 0, 0, 0, 0, 0, 0, 96.0]\n",
      "NAS-cleaned.txt.csv\n"
     ]
    },
    {
     "name": "stderr",
     "output_type": "stream",
     "text": [
      "/home/batman/.pyenv/versions/3.7.5/lib/python3.7/site-packages/ipykernel_launcher.py:10: ParserWarning: Falling back to the 'python' engine because the 'c' engine does not support regex separators (separators > 1 char and different from '\\s+' are interpreted as regex); you can avoid this warning by specifying engine='python'.\n",
      "  # Remove the CWD from sys.path while we load stuff.\n"
     ]
    }
   ],
   "source": [
    "import numpy as np\n",
    "import pandas as pd\n",
    "import glob\n",
    "\n",
    "\n",
    "for file in glob.glob('NAS-cleaned.txt'):\n",
    "    print(file)\n",
    "    name_file = file\n",
    "    #name_file = 'NAS-relu-10.txt'\n",
    "    dataset = pd.read_csv(name_file, header=None, sep='-->')\n",
    "\n",
    "    #print( dataset )\n",
    "\n",
    "    dicti = {}\n",
    "    next_iter = '--------------------------------------------------------------------------'\n",
    "    for elem in dataset[0].unique():\n",
    "        #print( elem )\n",
    "        if elem != next_iter:\n",
    "            dicti[elem] = []\n",
    "\n",
    "\n",
    "    index = 0\n",
    "    insert_new_entry = 1\n",
    "    for index, row in dataset. iterrows():\n",
    "        if row[0] in dicti:\n",
    "            if insert_new_entry:\n",
    "                for key in dicti:\n",
    "                    dicti[key].append(0)\n",
    "                insert_new_entry = 0\n",
    "            #print( row[0], row[1] )\n",
    "            dicti[row[0]].pop()\n",
    "            dicti[row[0]].append(row[1])\n",
    "            #dict[row[0]][index] = row[1]\n",
    "        else:\n",
    "            insert_new_entry = 1\n",
    "            index = index + 1\n",
    "\n",
    "\n",
    "    for key in dicti:\n",
    "        print( key, dicti[key] ) \n",
    "    pd_result = pd.DataFrame.from_dict(dicti, orient='index')\n",
    "    pd_result = pd_result.sort_index(ascending=True)\n",
    "    #print( pd_result )\n",
    "    name_file = name_file+'.csv'\n",
    "    print( name_file )\n",
    "    pd_result.to_csv(name_file,  sep = \";\")"
   ]
  },
  {
   "cell_type": "code",
   "execution_count": null,
   "metadata": {},
   "outputs": [],
   "source": []
  },
  {
   "cell_type": "code",
   "execution_count": null,
   "metadata": {},
   "outputs": [],
   "source": []
  },
  {
   "cell_type": "code",
   "execution_count": null,
   "metadata": {},
   "outputs": [],
   "source": []
  }
 ],
 "metadata": {
  "kernelspec": {
   "display_name": "Python 3",
   "language": "python",
   "name": "python3"
  },
  "language_info": {
   "codemirror_mode": {
    "name": "ipython",
    "version": 3
   },
   "file_extension": ".py",
   "mimetype": "text/x-python",
   "name": "python",
   "nbconvert_exporter": "python",
   "pygments_lexer": "ipython3",
   "version": "3.7.5"
  }
 },
 "nbformat": 4,
 "nbformat_minor": 2
}
