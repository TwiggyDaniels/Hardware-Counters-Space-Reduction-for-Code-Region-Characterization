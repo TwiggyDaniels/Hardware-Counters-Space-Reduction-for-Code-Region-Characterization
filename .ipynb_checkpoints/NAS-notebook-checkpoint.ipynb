{
 "cells": [
  {
   "cell_type": "markdown",
   "metadata": {},
   "source": [
    "# Using a Neural Networkt recognize execution patterns using hardware performance counters"
   ]
  },
  {
   "cell_type": "markdown",
   "metadata": {},
   "source": [
    "Load libraries and dataset"
   ]
  },
  {
   "cell_type": "code",
   "execution_count": 1,
   "metadata": {},
   "outputs": [
    {
     "name": "stderr",
     "output_type": "stream",
     "text": [
      "Using TensorFlow backend.\n"
     ]
    }
   ],
   "source": [
    "import numpy as np\n",
    "import pandas as pd\n",
    "import matplotlib.pyplot as plt\n",
    "import os\n",
    "from keras.utils import to_categorical\n",
    "import seaborn as sns\n",
    "dataset = pd.read_csv('patterns.csv',sep=';')\n",
    "dataset_NAS = pd.read_csv('NAS-clean.csv',sep=';')"
   ]
  },
  {
   "cell_type": "markdown",
   "metadata": {},
   "source": [
    "Shuffle data, necessary to mix the rows in the dataset in order to have training and testing data with all the cases.\n",
    "If the data is not shuffled, the cur for the test7train pair will be done at exacty the x-th position in the dataset."
   ]
  },
  {
   "cell_type": "code",
   "execution_count": 2,
   "metadata": {},
   "outputs": [
    {
     "name": "stdout",
     "output_type": "stream",
     "text": [
      "first: ['Add' 'Triad' '2D4PStencil' 'Reduction' 'Scatter' 'Copy' 'Rows' 'Stride2'\n",
      " 'Gather' '2PStencil' 'Test' 'Stride64' 'Stride16' 'Scale' 'Stride4']\n",
      "other: ['Add_BT' 'Triad_BT' 'Triad_Red_rhorr' 'Triad_similar_qAp'\n",
      " 'Triad_multi_z_alpha_p' 'Triad_pr_beta_p' 'Triad_norm_temps'\n",
      " 'Scale_normztox' 'Triad_similar_l2norm' 'Triad_ssor_triad']\n"
     ]
    }
   ],
   "source": [
    "from sklearn.utils import shuffle\n",
    "dataset = shuffle(dataset)\n",
    "print('first:', dataset['label'].unique())\n",
    "print('other:', dataset_NAS['label'].unique())"
   ]
  },
  {
   "cell_type": "code",
   "execution_count": 3,
   "metadata": {},
   "outputs": [
    {
     "data": {
      "text/plain": [
       "[36000,\n",
       " 36000,\n",
       " 36000,\n",
       " 36000,\n",
       " 36000,\n",
       " 36000,\n",
       " 36000,\n",
       " 36000,\n",
       " 36000,\n",
       " 36000,\n",
       " 36000,\n",
       " 36000,\n",
       " 36000,\n",
       " 36000,\n",
       " 36000,\n",
       " 36000,\n",
       " 36000,\n",
       " 36000,\n",
       " 36000,\n",
       " 36000,\n",
       " 36000,\n",
       " 36000,\n",
       " 36000,\n",
       " 36000,\n",
       " 36000,\n",
       " 36000,\n",
       " 36000,\n",
       " 36000,\n",
       " 36000,\n",
       " 36000,\n",
       " 36000,\n",
       " 36000,\n",
       " 36000,\n",
       " 36000,\n",
       " 36000,\n",
       " 36000,\n",
       " 36000,\n",
       " 36000,\n",
       " 36000,\n",
       " 36000,\n",
       " 36000,\n",
       " 36000,\n",
       " 36000]"
      ]
     },
     "execution_count": 3,
     "metadata": {},
     "output_type": "execute_result"
    }
   ],
   "source": [
    "sorted(dataset['size vector'].unique)"
   ]
  },
  {
   "cell_type": "markdown",
   "metadata": {},
   "source": [
    "Creating the dataset which will be used in the training step.\n",
    "Two sizes are removed in order to test if unseen data can be used to identify the patterns."
   ]
  },
  {
   "cell_type": "markdown",
   "metadata": {},
   "source": [
    "Generate the dataset with the two sizes to predict"
   ]
  },
  {
   "cell_type": "code",
   "execution_count": 4,
   "metadata": {},
   "outputs": [
    {
     "name": "stdout",
     "output_type": "stream",
     "text": [
      "Index(['id', 'size vector', 'comp opt', 'label', 'threads', 'PAPI_L1_DCM',\n",
      "       'PAPI_L3_TCM', 'PAPI_TOT_INS', 'PAPI_REF_CYC', 'PAPI_L2_LDM',\n",
      "       'PAPI_SR_INS', 'PAPI_BR_UCN', 'PAPI_BR_CN', 'PAPI_BR_TKN',\n",
      "       'PAPI_BR_MSP', 'PAPI_FP_OPS', 'PAPI_L1_LDM', 'PAPI_L1_STM',\n",
      "       'PAPI_SP_OPS', 'PAPI_LD_INS', 'PAPI_L2_STM', 'PAPI_TLB_DM',\n",
      "       'PAPI_L2_DCH', 'affinity'],\n",
      "      dtype='object')\n"
     ]
    }
   ],
   "source": [
    "print(dataset.columns)"
   ]
  },
  {
   "cell_type": "markdown",
   "metadata": {},
   "source": [
    "Remove extra columns and hardware performance counters discarded with PCA"
   ]
  },
  {
   "cell_type": "code",
   "execution_count": 5,
   "metadata": {},
   "outputs": [
    {
     "name": "stdout",
     "output_type": "stream",
     "text": [
      "<class 'pandas.core.frame.DataFrame'>\n",
      "RangeIndex: 1548000 entries, 0 to 1547999\n",
      "Data columns (total 19 columns):\n",
      "label           1548000 non-null object\n",
      "PAPI_L1_DCM     1548000 non-null int64\n",
      "PAPI_L3_TCM     1548000 non-null int64\n",
      "PAPI_TOT_INS    1548000 non-null int64\n",
      "PAPI_REF_CYC    1548000 non-null int64\n",
      "PAPI_L2_LDM     1548000 non-null int64\n",
      "PAPI_SR_INS     1548000 non-null int64\n",
      "PAPI_BR_UCN     1548000 non-null int64\n",
      "PAPI_BR_CN      1548000 non-null int64\n",
      "PAPI_BR_TKN     1548000 non-null int64\n",
      "PAPI_BR_MSP     1548000 non-null int64\n",
      "PAPI_FP_OPS     1548000 non-null int64\n",
      "PAPI_L1_LDM     1548000 non-null int64\n",
      "PAPI_L1_STM     1548000 non-null int64\n",
      "PAPI_SP_OPS     1548000 non-null int64\n",
      "PAPI_LD_INS     1548000 non-null int64\n",
      "PAPI_L2_STM     1548000 non-null int64\n",
      "PAPI_TLB_DM     1548000 non-null int64\n",
      "PAPI_L2_DCH     1548000 non-null int64\n",
      "dtypes: int64(18), object(1)\n",
      "memory usage: 224.4+ MB\n"
     ]
    }
   ],
   "source": [
    "def erase_from_dataset(dataset_in):\n",
    "    del dataset_in['id']\n",
    "    del dataset_in['size vector']\n",
    "    del dataset_in['comp opt']\n",
    "    del dataset_in['threads']\n",
    "    del dataset_in['affinity']\n",
    "    dataset_in = dataset_in.reset_index(drop=True)\n",
    "    dataset_in.info()\n",
    "    \n",
    "erase_from_dataset(dataset)"
   ]
  },
  {
   "cell_type": "code",
   "execution_count": 6,
   "metadata": {},
   "outputs": [
    {
     "name": "stdout",
     "output_type": "stream",
     "text": [
      "<class 'pandas.core.frame.DataFrame'>\n",
      "RangeIndex: 153240 entries, 0 to 153239\n",
      "Data columns (total 19 columns):\n",
      "label           153240 non-null object\n",
      "PAPI_L1_DCM     153240 non-null int64\n",
      "PAPI_L3_TCM     153240 non-null int64\n",
      "PAPI_TOT_INS    153240 non-null int64\n",
      "PAPI_REF_CYC    153240 non-null int64\n",
      "PAPI_L2_LDM     153240 non-null int64\n",
      "PAPI_SR_INS     153240 non-null int64\n",
      "PAPI_BR_UCN     153240 non-null int64\n",
      "PAPI_BR_CN      153240 non-null int64\n",
      "PAPI_BR_TKN     153240 non-null int64\n",
      "PAPI_BR_MSP     153240 non-null int64\n",
      "PAPI_FP_OPS     153240 non-null int64\n",
      "PAPI_L1_LDM     153240 non-null int64\n",
      "PAPI_L1_STM     153240 non-null int64\n",
      "PAPI_SP_OPS     153240 non-null int64\n",
      "PAPI_LD_INS     153240 non-null int64\n",
      "PAPI_L2_STM     153240 non-null int64\n",
      "PAPI_TLB_DM     153240 non-null int64\n",
      "PAPI_L2_DCH     153240 non-null int64\n",
      "dtypes: int64(18), object(1)\n",
      "memory usage: 22.2+ MB\n"
     ]
    }
   ],
   "source": [
    "def erase_from_dataset_NAS(dataset_in):\n",
    "    del dataset_in['id']\n",
    "    del dataset_in['size vector']\n",
    "    del dataset_in['comp opt']\n",
    "    del dataset_in['threads']\n",
    "    del dataset_in['affinity']\n",
    "    dataset_in = dataset_in.reset_index(drop=True)\n",
    "    dataset_in.info()\n",
    "    \n",
    "erase_from_dataset_NAS(dataset_NAS)"
   ]
  },
  {
   "cell_type": "code",
   "execution_count": 7,
   "metadata": {},
   "outputs": [
    {
     "data": {
      "text/plain": [
       "Index(['label', 'PAPI_L1_DCM', 'PAPI_L3_TCM', 'PAPI_TOT_INS', 'PAPI_REF_CYC',\n",
       "       'PAPI_L2_LDM', 'PAPI_SR_INS', 'PAPI_BR_UCN', 'PAPI_BR_CN',\n",
       "       'PAPI_BR_TKN', 'PAPI_BR_MSP', 'PAPI_FP_OPS', 'PAPI_L1_LDM',\n",
       "       'PAPI_L1_STM', 'PAPI_SP_OPS', 'PAPI_LD_INS', 'PAPI_L2_STM',\n",
       "       'PAPI_TLB_DM', 'PAPI_L2_DCH'],\n",
       "      dtype='object')"
      ]
     },
     "execution_count": 7,
     "metadata": {},
     "output_type": "execute_result"
    }
   ],
   "source": [
    "dataset.columns"
   ]
  },
  {
   "cell_type": "code",
   "execution_count": 8,
   "metadata": {},
   "outputs": [
    {
     "data": {
      "text/plain": [
       "Index(['label', 'PAPI_L1_DCM', 'PAPI_L3_TCM', 'PAPI_TOT_INS', 'PAPI_REF_CYC',\n",
       "       'PAPI_L2_LDM', 'PAPI_SR_INS', 'PAPI_BR_UCN', 'PAPI_BR_CN',\n",
       "       'PAPI_BR_TKN', 'PAPI_BR_MSP', 'PAPI_FP_OPS', 'PAPI_L1_LDM',\n",
       "       'PAPI_L1_STM', 'PAPI_SP_OPS', 'PAPI_LD_INS', 'PAPI_L2_STM',\n",
       "       'PAPI_TLB_DM', 'PAPI_L2_DCH'],\n",
       "      dtype='object')"
      ]
     },
     "execution_count": 8,
     "metadata": {},
     "output_type": "execute_result"
    }
   ],
   "source": [
    "dataset_NAS.columns"
   ]
  },
  {
   "cell_type": "code",
   "execution_count": 9,
   "metadata": {},
   "outputs": [
    {
     "data": {
      "text/plain": [
       "Index([], dtype='object')"
      ]
     },
     "execution_count": 9,
     "metadata": {},
     "output_type": "execute_result"
    }
   ],
   "source": [
    "dataset_NAS.columns.difference(dataset.columns)"
   ]
  },
  {
   "cell_type": "markdown",
   "metadata": {},
   "source": [
    "Divide dataset hardware performance counters and labels"
   ]
  },
  {
   "cell_type": "code",
   "execution_count": 10,
   "metadata": {},
   "outputs": [],
   "source": [
    "X = dataset.iloc[:,1:19].values\n",
    "y = dataset.iloc[:,0].values"
   ]
  },
  {
   "cell_type": "markdown",
   "metadata": {},
   "source": [
    "Normalize data"
   ]
  },
  {
   "cell_type": "code",
   "execution_count": 11,
   "metadata": {},
   "outputs": [],
   "source": [
    "from sklearn.preprocessing import Normalizer\n",
    "scaler_x = Normalizer()\n",
    "scaler_x.fit(X)\n",
    "X_scaled =  scaler_x.transform(X)"
   ]
  },
  {
   "cell_type": "markdown",
   "metadata": {},
   "source": [
    "Encode labels in numeric categories"
   ]
  },
  {
   "cell_type": "code",
   "execution_count": 12,
   "metadata": {},
   "outputs": [],
   "source": [
    "from sklearn.preprocessing import LabelEncoder\n",
    "encoder =  LabelEncoder()\n",
    "y1 = encoder.fit_transform(y)\n",
    "Y = pd.get_dummies(y1).values"
   ]
  },
  {
   "cell_type": "markdown",
   "metadata": {},
   "source": [
    "Load keras NN libraries and create empty NN"
   ]
  },
  {
   "cell_type": "code",
   "execution_count": 13,
   "metadata": {},
   "outputs": [],
   "source": [
    "#Defining the model \n",
    "from keras.models import Sequential\n",
    "from keras.layers import Dense, Dropout\n",
    "from keras.optimizers import Adam\n",
    "\n",
    "\n",
    "model = Sequential()"
   ]
  },
  {
   "cell_type": "markdown",
   "metadata": {},
   "source": [
    "Add input layer for the 18 hardware counters\n",
    "Add one hidden layer\n",
    "And one output layer\n",
    "Then compile the model"
   ]
  },
  {
   "cell_type": "code",
   "execution_count": 14,
   "metadata": {},
   "outputs": [
    {
     "name": "stdout",
     "output_type": "stream",
     "text": [
      "Model: \"sequential_1\"\n",
      "_________________________________________________________________\n",
      "Layer (type)                 Output Shape              Param #   \n",
      "=================================================================\n",
      "dropout_1 (Dropout)          (None, 18)                0         \n",
      "_________________________________________________________________\n",
      "dense_1 (Dense)              (None, 18)                342       \n",
      "_________________________________________________________________\n",
      "dropout_2 (Dropout)          (None, 18)                0         \n",
      "_________________________________________________________________\n",
      "dense_2 (Dense)              (None, 20)                380       \n",
      "_________________________________________________________________\n",
      "dropout_3 (Dropout)          (None, 20)                0         \n",
      "_________________________________________________________________\n",
      "dense_3 (Dense)              (None, 15)                315       \n",
      "=================================================================\n",
      "Total params: 1,037\n",
      "Trainable params: 1,037\n",
      "Non-trainable params: 0\n",
      "_________________________________________________________________\n"
     ]
    }
   ],
   "source": [
    "model.add(Dropout(0.05, input_shape=(18,)))\n",
    "model.add(Dense(18, activation='selu'))\n",
    "model.add(Dropout(0.2))\n",
    "model.add(Dense(20, activation='selu'))\n",
    "model.add(Dropout(0.2))\n",
    "model.add(Dense(15, activation='softmax'))\n",
    "\n",
    "model.compile(Adam(lr=0.001), 'categorical_crossentropy', metrics=['accuracy'])\n",
    "model.summary()"
   ]
  },
  {
   "cell_type": "markdown",
   "metadata": {},
   "source": [
    "Execute the neural network"
   ]
  },
  {
   "cell_type": "code",
   "execution_count": 15,
   "metadata": {
    "scrolled": false
   },
   "outputs": [
    {
     "name": "stdout",
     "output_type": "stream",
     "text": [
      "Train on 1238400 samples, validate on 309600 samples\n",
      "Epoch 1/20\n",
      "1238400/1238400 [==============================] - 23s 19us/step - loss: 1.3111 - accuracy: 0.6185 - val_loss: 0.6224 - val_accuracy: 0.8590\n",
      "Epoch 2/20\n",
      "1238400/1238400 [==============================] - 22s 18us/step - loss: 0.9803 - accuracy: 0.7235 - val_loss: 0.5281 - val_accuracy: 0.8905\n",
      "Epoch 3/20\n",
      "1238400/1238400 [==============================] - 22s 18us/step - loss: 0.9137 - accuracy: 0.7360 - val_loss: 0.5123 - val_accuracy: 0.8795\n",
      "Epoch 4/20\n",
      "1238400/1238400 [==============================] - 24s 20us/step - loss: 0.8750 - accuracy: 0.7443 - val_loss: 0.4865 - val_accuracy: 0.8935\n",
      "Epoch 5/20\n",
      "1238400/1238400 [==============================] - 24s 19us/step - loss: 0.8489 - accuracy: 0.7507 - val_loss: 0.4884 - val_accuracy: 0.8793\n",
      "Epoch 6/20\n",
      "1238400/1238400 [==============================] - 25s 20us/step - loss: 0.8341 - accuracy: 0.7549 - val_loss: 0.4425 - val_accuracy: 0.9070\n",
      "Epoch 7/20\n",
      "1238400/1238400 [==============================] - 25s 20us/step - loss: 0.8223 - accuracy: 0.7572 - val_loss: 0.4601 - val_accuracy: 0.8870\n",
      "Epoch 8/20\n",
      "1238400/1238400 [==============================] - 29s 24us/step - loss: 0.8154 - accuracy: 0.7589 - val_loss: 0.4439 - val_accuracy: 0.9007\n",
      "Epoch 9/20\n",
      "1238400/1238400 [==============================] - 32s 26us/step - loss: 0.8112 - accuracy: 0.7602 - val_loss: 0.4544 - val_accuracy: 0.8844\n",
      "Epoch 10/20\n",
      "1238400/1238400 [==============================] - 24s 20us/step - loss: 0.8018 - accuracy: 0.7621 - val_loss: 0.4189 - val_accuracy: 0.9069\n",
      "Epoch 11/20\n",
      "1238400/1238400 [==============================] - 24s 20us/step - loss: 0.7975 - accuracy: 0.7635 - val_loss: 0.4237 - val_accuracy: 0.9020\n",
      "Epoch 12/20\n",
      "1238400/1238400 [==============================] - 24s 19us/step - loss: 0.7926 - accuracy: 0.7648 - val_loss: 0.4248 - val_accuracy: 0.9028\n",
      "Epoch 13/20\n",
      "1238400/1238400 [==============================] - 24s 20us/step - loss: 0.7872 - accuracy: 0.7657 - val_loss: 0.4077 - val_accuracy: 0.9073\n",
      "Epoch 14/20\n",
      "1238400/1238400 [==============================] - 24s 19us/step - loss: 0.7831 - accuracy: 0.7662 - val_loss: 0.4091 - val_accuracy: 0.9074\n",
      "Epoch 15/20\n",
      "1238400/1238400 [==============================] - 25s 20us/step - loss: 0.7735 - accuracy: 0.7685 - val_loss: 0.4122 - val_accuracy: 0.8981\n",
      "Epoch 16/20\n",
      "1238400/1238400 [==============================] - 36s 29us/step - loss: 0.7688 - accuracy: 0.7705 - val_loss: 0.3976 - val_accuracy: 0.9023\n",
      "Epoch 17/20\n",
      "1238400/1238400 [==============================] - 28s 22us/step - loss: 0.7628 - accuracy: 0.7725 - val_loss: 0.4102 - val_accuracy: 0.8993\n",
      "Epoch 18/20\n",
      "1238400/1238400 [==============================] - 35s 28us/step - loss: 0.7606 - accuracy: 0.7731 - val_loss: 0.3998 - val_accuracy: 0.9096\n",
      "Epoch 19/20\n",
      "1238400/1238400 [==============================] - 27s 22us/step - loss: 0.7557 - accuracy: 0.7749 - val_loss: 0.3934 - val_accuracy: 0.9054\n",
      "Epoch 20/20\n",
      "1238400/1238400 [==============================] - 25s 20us/step - loss: 0.7526 - accuracy: 0.7766 - val_loss: 0.3861 - val_accuracy: 0.9094\n"
     ]
    }
   ],
   "source": [
    "history = model.fit(X_scaled,Y,batch_size=100,epochs=20,shuffle=1,validation_split=0.20)"
   ]
  },
  {
   "cell_type": "markdown",
   "metadata": {},
   "source": [
    "See the evolution of the model"
   ]
  },
  {
   "cell_type": "code",
   "execution_count": 16,
   "metadata": {
    "scrolled": false
   },
   "outputs": [
    {
     "data": {
      "image/png": "[encoded data removed]",
      "text/plain": [
       "<Figure size 720x720 with 1 Axes>"
      ]
     },
     "metadata": {
      "needs_background": "light"
     },
     "output_type": "display_data"
    }
   ],
   "source": [
    "from pylab import rcParams\n",
    "rcParams['figure.figsize'] = 10, 10\n",
    "plt.ylim(0.7,1)\n",
    "plt.plot(history.history['accuracy'])\n",
    "plt.plot(history.history['val_accuracy'])\n",
    "plt.title('model accuracy')\n",
    "plt.ylabel('accuracy')\n",
    "plt.xlabel('epoch')\n",
    "plt.legend(['train', 'test'], loc='upper left')\n",
    "plt.show()"
   ]
  },
  {
   "cell_type": "code",
   "execution_count": 17,
   "metadata": {},
   "outputs": [
    {
     "data": {
      "image/png": "[encoded data removed]",
      "text/plain": [
       "<Figure size 720x720 with 1 Axes>"
      ]
     },
     "metadata": {
      "needs_background": "light"
     },
     "output_type": "display_data"
    }
   ],
   "source": [
    "from pylab import rcParams\n",
    "rcParams['figure.figsize'] = 10, 10\n",
    "plt.plot(history.history['loss'])\n",
    "plt.plot(history.history['val_loss'])\n",
    "plt.title('model loss')\n",
    "plt.ylabel('loss')\n",
    "plt.xlabel('epoch')\n",
    "plt.legend(['train', 'test'], loc='upper left')\n",
    "plt.show()"
   ]
  },
  {
   "cell_type": "code",
   "execution_count": 61,
   "metadata": {},
   "outputs": [
    {
     "ename": "IndentationError",
     "evalue": "unexpected indent (<ipython-input-61-b7c4b633fca2>, line 5)",
     "output_type": "error",
     "traceback": [
      "\u001b[0;36m  File \u001b[0;32m\"<ipython-input-61-b7c4b633fca2>\"\u001b[0;36m, line \u001b[0;32m5\u001b[0m\n\u001b[0;31m    print('Node #{} weights'.format(i))\u001b[0m\n\u001b[0m    ^\u001b[0m\n\u001b[0;31mIndentationError\u001b[0m\u001b[0;31m:\u001b[0m unexpected indent\n"
     ]
    }
   ],
   "source": [
    "n = model.layers[1].get_weights()\n",
    "w = n[0]\n",
    "b = n[1]\n",
    "print(w.shape)\n",
    "    '''\n",
    "    print('Node #{} weights'.format(i))\n",
    "    print('\\tmin: {0:7.3f} at: {1:3}\\n\\tavg: {2:7.3f}\\n\\tmax: {3:7.3f} at: {4:3}'.format(np.amin(w), \n",
    "            np.argmin(w), np.average(w), np.amax(w), np.argmax(w)))\n",
    "    print('Node #{} biases'.format(i))\n",
    "    print('\\tmin: {0:7.3f} at: {1:3}\\n\\tavg: {2:7.3f}\\n\\tmax: {3:7.3f} at: {4:3}'.format(np.amin(b), \n",
    "            np.argmin(b), np.average(b), np.amax(b), np.argmax(b)))\n",
    "    '''"
   ]
  },
  {
   "cell_type": "code",
   "execution_count": 33,
   "metadata": {},
   "outputs": [],
   "source": [
    "dataset_pred = dataset_NAS"
   ]
  },
  {
   "cell_type": "markdown",
   "metadata": {},
   "source": [
    "Divide dataset hardware performance counters and labels"
   ]
  },
  {
   "cell_type": "code",
   "execution_count": 34,
   "metadata": {},
   "outputs": [],
   "source": [
    "X_pred = dataset_pred.iloc[:,1:21].values\n",
    "y_pred = dataset_pred.iloc[:,0].values"
   ]
  },
  {
   "cell_type": "markdown",
   "metadata": {},
   "source": [
    "Normalize the data"
   ]
  },
  {
   "cell_type": "code",
   "execution_count": 35,
   "metadata": {},
   "outputs": [],
   "source": [
    "X_pred_scaled = scaler_x.fit_transform(X_pred)"
   ]
  },
  {
   "cell_type": "markdown",
   "metadata": {},
   "source": [
    "Use the network to predict the labels and transform the output to the pattern's labels"
   ]
  },
  {
   "cell_type": "code",
   "execution_count": 36,
   "metadata": {},
   "outputs": [],
   "source": [
    "predictions = model.predict_classes(X_pred_scaled)\n",
    "prediction_ = np.argmax(to_categorical(predictions), axis = 1)\n",
    "prediction_ = encoder.inverse_transform(prediction_)"
   ]
  },
  {
   "cell_type": "markdown",
   "metadata": {},
   "source": [
    "Classify the results in 'NAS pattern' predicted as: 'pattern (from patterns.csv)'"
   ]
  },
  {
   "cell_type": "code",
   "execution_count": 37,
   "metadata": {},
   "outputs": [],
   "source": [
    "predicted_as={}\n",
    "for i, j in zip(prediction_ , y_pred):\n",
    "    pattern_as = str(j + \" -- predicted as: \" + i)\n",
    "    if pattern_as not in predicted_as:\n",
    "        predicted_as[pattern_as] = 0\n",
    "    predicted_as[pattern_as] = predicted_as[pattern_as] + 1"
   ]
  },
  {
   "cell_type": "markdown",
   "metadata": {},
   "source": [
    "Store and show results"
   ]
  },
  {
   "cell_type": "code",
   "execution_count": 38,
   "metadata": {},
   "outputs": [
    {
     "name": "stdout",
     "output_type": "stream",
     "text": [
      "Add_BT -- predicted as: Add  -->  4002\n",
      "Add_BT -- predicted as: Triad  -->  822\n",
      "Scale_normztox -- predicted as: Add  -->  59\n",
      "Scale_normztox -- predicted as: Scale  -->  1765\n",
      "Triad_BT -- predicted as: Test  -->  24\n",
      "Triad_Red_rhorr -- predicted as: Reduction  -->  1817\n",
      "Triad_Red_rhorr -- predicted as: Test  -->  7\n",
      "Triad_multi_z_alpha_p -- predicted as: 2D4PStencil  -->  31244\n",
      "Triad_multi_z_alpha_p -- predicted as: Test  -->  14356\n",
      "Triad_norm_temps -- predicted as: Reduction  -->  1821\n",
      "Triad_norm_temps -- predicted as: Test  -->  3\n",
      "Triad_pr_beta_p -- predicted as: 2D4PStencil  -->  3800\n",
      "Triad_pr_beta_p -- predicted as: Stride2  -->  288\n",
      "Triad_pr_beta_p -- predicted as: Triad  -->  41512\n",
      "Triad_similar_l2norm -- predicted as: Test  -->  96\n",
      "Triad_similar_qAp -- predicted as: Reduction  -->  45600\n",
      "Triad_ssor_triad -- predicted as: 2D4PStencil  -->  2535\n",
      "Triad_ssor_triad -- predicted as: Test  -->  2376\n",
      "Triad_ssor_triad -- predicted as: Triad  -->  1113\n"
     ]
    }
   ],
   "source": [
    "with open('NAS-cleaned.txt', 'a+') as out:\n",
    "    for i in sorted(predicted_as):\n",
    "        print ( i , \" --> \", predicted_as[i] )\n",
    "        out.write(str(i) +  \" --> \" + str(predicted_as[i]) + \"\\n\")\n",
    "    out.write(\"--------------------------------------------------------------------------\\n\")"
   ]
  },
  {
   "cell_type": "markdown",
   "metadata": {},
   "source": [
    "Number of row with each pattern"
   ]
  },
  {
   "cell_type": "code",
   "execution_count": 25,
   "metadata": {},
   "outputs": [
    {
     "data": {
      "text/plain": [
       "label\n",
       "Add_BT                    4824\n",
       "Scale_normztox            1824\n",
       "Triad_BT                    24\n",
       "Triad_Red_rhorr           1824\n",
       "Triad_multi_z_alpha_p    45600\n",
       "Triad_norm_temps          1824\n",
       "Triad_pr_beta_p          45600\n",
       "Triad_similar_l2norm        96\n",
       "Triad_similar_qAp        45600\n",
       "Triad_ssor_triad          6024\n",
       "dtype: int64"
      ]
     },
     "execution_count": 25,
     "metadata": {},
     "output_type": "execute_result"
    }
   ],
   "source": [
    "df = pd.DataFrame(dataset_NAS, columns= ['label'])\n",
    "df.pivot_table(index=['label'], aggfunc='size')"
   ]
  },
  {
   "cell_type": "code",
   "execution_count": 26,
   "metadata": {},
   "outputs": [],
   "source": [
    "#%%javascript\n",
    "#Jupyter.notebook.session.delete();"
   ]
  },
  {
   "cell_type": "code",
   "execution_count": null,
   "metadata": {},
   "outputs": [],
   "source": []
  }
 ],
 "metadata": {
  "kernelspec": {
   "display_name": "Python 3",
   "language": "python",
   "name": "python3"
  },
  "language_info": {
   "codemirror_mode": {
    "name": "ipython",
    "version": 3
   },
   "file_extension": ".py",
   "mimetype": "text/x-python",
   "name": "python",
   "nbconvert_exporter": "python",
   "pygments_lexer": "ipython3",
   "version": "3.7.5"
  }
 },
 "nbformat": 4,
 "nbformat_minor": 2
}
