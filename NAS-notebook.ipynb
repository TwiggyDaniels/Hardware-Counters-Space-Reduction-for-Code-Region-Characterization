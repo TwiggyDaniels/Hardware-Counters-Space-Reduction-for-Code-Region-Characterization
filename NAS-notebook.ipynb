{
 "cells": [
  {
   "cell_type": "markdown",
   "metadata": {},
   "source": [
    "# Using a Neural Networkt recognize execution patterns using hardware performance counters"
   ]
  },
  {
   "cell_type": "markdown",
   "metadata": {},
   "source": [
    "Load libraries and dataset"
   ]
  },
  {
   "cell_type": "code",
   "execution_count": 1,
   "metadata": {},
   "outputs": [
    {
     "name": "stderr",
     "output_type": "stream",
     "text": [
      "Using TensorFlow backend.\n"
     ]
    }
   ],
   "source": [
    "import numpy as np\n",
    "import pandas as pd\n",
    "import matplotlib.pyplot as plt\n",
    "import os\n",
    "from keras.utils import to_categorical\n",
    "import seaborn as sns\n",
    "dataset = pd.read_csv('patterns.csv',sep=';')\n",
    "dataset_NAS = pd.read_csv('NAS-clean.csv',sep=';')"
   ]
  },
  {
   "cell_type": "markdown",
   "metadata": {},
   "source": [
    "Shuffle data, necessary to mix the rows in the dataset in order to have training and testing data with all the cases.\n",
    "If the data is not shuffled, the cur for the test7train pair will be done at exacty the x-th position in the dataset."
   ]
  },
  {
   "cell_type": "code",
   "execution_count": 2,
   "metadata": {},
   "outputs": [
    {
     "name": "stdout",
     "output_type": "stream",
     "text": [
      "first: ['Rows' 'Reduction' 'Scatter' 'Stride4' '2PStencil' 'Stride16' 'Test'\n",
      " 'Triad' 'Gather' 'Stride64' 'Add' '2D4PStencil' 'Copy' 'Scale' 'Stride2']\n",
      "other: ['Add_BT' 'Triad_BT' 'Triad_Red_rhorr' 'Triad_similar_qAp'\n",
      " 'Triad_multi_z_alpha_p' 'Triad_pr_beta_p' 'Triad_norm_temps'\n",
      " 'Scale_normztox' 'Triad_similar_l2norm' 'Triad_ssor_triad']\n"
     ]
    }
   ],
   "source": [
    "from sklearn.utils import shuffle\n",
    "dataset = shuffle(dataset)\n",
    "print('first:', dataset['label'].unique())\n",
    "print('other:', dataset_NAS['label'].unique())"
   ]
  },
  {
   "cell_type": "code",
   "execution_count": 3,
   "metadata": {},
   "outputs": [
    {
     "data": {
      "text/plain": [
       "[1000,\n",
       " 2000,\n",
       " 3000,\n",
       " 4000,\n",
       " 5000,\n",
       " 6000,\n",
       " 7000,\n",
       " 8000,\n",
       " 9000,\n",
       " 10000,\n",
       " 20000,\n",
       " 30000,\n",
       " 40000,\n",
       " 50000,\n",
       " 60000,\n",
       " 70000,\n",
       " 80000,\n",
       " 90000,\n",
       " 100000,\n",
       " 200000,\n",
       " 300000,\n",
       " 400000,\n",
       " 500000,\n",
       " 600000,\n",
       " 700000,\n",
       " 800000,\n",
       " 900000,\n",
       " 1000000,\n",
       " 2000000,\n",
       " 3000000,\n",
       " 5000000,\n",
       " 7000000,\n",
       " 9000000,\n",
       " 20000000,\n",
       " 40000000,\n",
       " 60000000,\n",
       " 80000000,\n",
       " 100000000,\n",
       " 120000000,\n",
       " 140000000,\n",
       " 160000000,\n",
       " 180000000,\n",
       " 200000000]"
      ]
     },
     "execution_count": 3,
     "metadata": {},
     "output_type": "execute_result"
    }
   ],
   "source": [
    "sorted(dataset['size vector'].unique())"
   ]
  },
  {
   "cell_type": "markdown",
   "metadata": {},
   "source": [
    "Creating the dataset which will be used in the training step.\n",
    "Two sizes are removed in order to test if unseen data can be used to identify the patterns."
   ]
  },
  {
   "cell_type": "markdown",
   "metadata": {},
   "source": [
    "Generate the dataset with the two sizes to predict"
   ]
  },
  {
   "cell_type": "code",
   "execution_count": 4,
   "metadata": {},
   "outputs": [
    {
     "name": "stdout",
     "output_type": "stream",
     "text": [
      "Index(['id', 'size vector', 'comp opt', 'label', 'threads', 'PAPI_L1_DCM',\n",
      "       'PAPI_L3_TCM', 'PAPI_TOT_INS', 'PAPI_REF_CYC', 'PAPI_L2_LDM',\n",
      "       'PAPI_SR_INS', 'PAPI_BR_UCN', 'PAPI_BR_CN', 'PAPI_BR_TKN',\n",
      "       'PAPI_BR_MSP', 'PAPI_FP_OPS', 'PAPI_L1_LDM', 'PAPI_L1_STM',\n",
      "       'PAPI_SP_OPS', 'PAPI_LD_INS', 'PAPI_L2_STM', 'PAPI_TLB_DM',\n",
      "       'PAPI_L2_DCH', 'affinity'],\n",
      "      dtype='object')\n"
     ]
    }
   ],
   "source": [
    "print(dataset.columns)"
   ]
  },
  {
   "cell_type": "markdown",
   "metadata": {},
   "source": [
    "Remove extra columns and hardware performance counters discarded with PCA"
   ]
  },
  {
   "cell_type": "code",
   "execution_count": 5,
   "metadata": {},
   "outputs": [
    {
     "name": "stdout",
     "output_type": "stream",
     "text": [
      "<class 'pandas.core.frame.DataFrame'>\n",
      "RangeIndex: 1548000 entries, 0 to 1547999\n",
      "Data columns (total 19 columns):\n",
      "label           1548000 non-null object\n",
      "PAPI_L1_DCM     1548000 non-null int64\n",
      "PAPI_L3_TCM     1548000 non-null int64\n",
      "PAPI_TOT_INS    1548000 non-null int64\n",
      "PAPI_REF_CYC    1548000 non-null int64\n",
      "PAPI_L2_LDM     1548000 non-null int64\n",
      "PAPI_SR_INS     1548000 non-null int64\n",
      "PAPI_BR_UCN     1548000 non-null int64\n",
      "PAPI_BR_CN      1548000 non-null int64\n",
      "PAPI_BR_TKN     1548000 non-null int64\n",
      "PAPI_BR_MSP     1548000 non-null int64\n",
      "PAPI_FP_OPS     1548000 non-null int64\n",
      "PAPI_L1_LDM     1548000 non-null int64\n",
      "PAPI_L1_STM     1548000 non-null int64\n",
      "PAPI_SP_OPS     1548000 non-null int64\n",
      "PAPI_LD_INS     1548000 non-null int64\n",
      "PAPI_L2_STM     1548000 non-null int64\n",
      "PAPI_TLB_DM     1548000 non-null int64\n",
      "PAPI_L2_DCH     1548000 non-null int64\n",
      "dtypes: int64(18), object(1)\n",
      "memory usage: 224.4+ MB\n"
     ]
    }
   ],
   "source": [
    "def erase_from_dataset(dataset_in):\n",
    "    del dataset_in['id']\n",
    "    del dataset_in['size vector']\n",
    "    del dataset_in['comp opt']\n",
    "    del dataset_in['threads']\n",
    "    del dataset_in['affinity']\n",
    "    dataset_in = dataset_in.reset_index(drop=True)\n",
    "    dataset_in.info()\n",
    "    \n",
    "erase_from_dataset(dataset)"
   ]
  },
  {
   "cell_type": "code",
   "execution_count": 6,
   "metadata": {},
   "outputs": [
    {
     "name": "stdout",
     "output_type": "stream",
     "text": [
      "<class 'pandas.core.frame.DataFrame'>\n",
      "RangeIndex: 153240 entries, 0 to 153239\n",
      "Data columns (total 19 columns):\n",
      "label           153240 non-null object\n",
      "PAPI_L1_DCM     153240 non-null int64\n",
      "PAPI_L3_TCM     153240 non-null int64\n",
      "PAPI_TOT_INS    153240 non-null int64\n",
      "PAPI_REF_CYC    153240 non-null int64\n",
      "PAPI_L2_LDM     153240 non-null int64\n",
      "PAPI_SR_INS     153240 non-null int64\n",
      "PAPI_BR_UCN     153240 non-null int64\n",
      "PAPI_BR_CN      153240 non-null int64\n",
      "PAPI_BR_TKN     153240 non-null int64\n",
      "PAPI_BR_MSP     153240 non-null int64\n",
      "PAPI_FP_OPS     153240 non-null int64\n",
      "PAPI_L1_LDM     153240 non-null int64\n",
      "PAPI_L1_STM     153240 non-null int64\n",
      "PAPI_SP_OPS     153240 non-null int64\n",
      "PAPI_LD_INS     153240 non-null int64\n",
      "PAPI_L2_STM     153240 non-null int64\n",
      "PAPI_TLB_DM     153240 non-null int64\n",
      "PAPI_L2_DCH     153240 non-null int64\n",
      "dtypes: int64(18), object(1)\n",
      "memory usage: 22.2+ MB\n"
     ]
    }
   ],
   "source": [
    "def erase_from_dataset_NAS(dataset_in):\n",
    "    del dataset_in['id']\n",
    "    del dataset_in['size vector']\n",
    "    del dataset_in['comp opt']\n",
    "    del dataset_in['threads']\n",
    "    del dataset_in['affinity']\n",
    "    dataset_in = dataset_in.reset_index(drop=True)\n",
    "    dataset_in.info()\n",
    "    \n",
    "erase_from_dataset_NAS(dataset_NAS)"
   ]
  },
  {
   "cell_type": "code",
   "execution_count": 7,
   "metadata": {},
   "outputs": [
    {
     "data": {
      "text/plain": [
       "Index(['label', 'PAPI_L1_DCM', 'PAPI_L3_TCM', 'PAPI_TOT_INS', 'PAPI_REF_CYC',\n",
       "       'PAPI_L2_LDM', 'PAPI_SR_INS', 'PAPI_BR_UCN', 'PAPI_BR_CN',\n",
       "       'PAPI_BR_TKN', 'PAPI_BR_MSP', 'PAPI_FP_OPS', 'PAPI_L1_LDM',\n",
       "       'PAPI_L1_STM', 'PAPI_SP_OPS', 'PAPI_LD_INS', 'PAPI_L2_STM',\n",
       "       'PAPI_TLB_DM', 'PAPI_L2_DCH'],\n",
       "      dtype='object')"
      ]
     },
     "execution_count": 7,
     "metadata": {},
     "output_type": "execute_result"
    }
   ],
   "source": [
    "dataset.columns"
   ]
  },
  {
   "cell_type": "code",
   "execution_count": 8,
   "metadata": {},
   "outputs": [
    {
     "data": {
      "text/plain": [
       "Index(['label', 'PAPI_L1_DCM', 'PAPI_L3_TCM', 'PAPI_TOT_INS', 'PAPI_REF_CYC',\n",
       "       'PAPI_L2_LDM', 'PAPI_SR_INS', 'PAPI_BR_UCN', 'PAPI_BR_CN',\n",
       "       'PAPI_BR_TKN', 'PAPI_BR_MSP', 'PAPI_FP_OPS', 'PAPI_L1_LDM',\n",
       "       'PAPI_L1_STM', 'PAPI_SP_OPS', 'PAPI_LD_INS', 'PAPI_L2_STM',\n",
       "       'PAPI_TLB_DM', 'PAPI_L2_DCH'],\n",
       "      dtype='object')"
      ]
     },
     "execution_count": 8,
     "metadata": {},
     "output_type": "execute_result"
    }
   ],
   "source": [
    "dataset_NAS.columns"
   ]
  },
  {
   "cell_type": "code",
   "execution_count": 9,
   "metadata": {},
   "outputs": [
    {
     "data": {
      "text/plain": [
       "Index([], dtype='object')"
      ]
     },
     "execution_count": 9,
     "metadata": {},
     "output_type": "execute_result"
    }
   ],
   "source": [
    "dataset_NAS.columns.difference(dataset.columns)"
   ]
  },
  {
   "cell_type": "markdown",
   "metadata": {},
   "source": [
    "Divide dataset hardware performance counters and labels"
   ]
  },
  {
   "cell_type": "code",
   "execution_count": 10,
   "metadata": {},
   "outputs": [],
   "source": [
    "X = dataset.iloc[:,1:19].values\n",
    "y = dataset.iloc[:,0].values"
   ]
  },
  {
   "cell_type": "markdown",
   "metadata": {},
   "source": [
    "Normalize data"
   ]
  },
  {
   "cell_type": "code",
   "execution_count": 11,
   "metadata": {},
   "outputs": [],
   "source": [
    "from sklearn.preprocessing import Normalizer\n",
    "scaler_x = Normalizer()\n",
    "scaler_x.fit(X)\n",
    "X_scaled =  scaler_x.transform(X)"
   ]
  },
  {
   "cell_type": "markdown",
   "metadata": {},
   "source": [
    "Encode labels in numeric categories"
   ]
  },
  {
   "cell_type": "code",
   "execution_count": 12,
   "metadata": {},
   "outputs": [],
   "source": [
    "from sklearn.preprocessing import LabelEncoder\n",
    "encoder =  LabelEncoder()\n",
    "y1 = encoder.fit_transform(y)\n",
    "Y = pd.get_dummies(y1).values"
   ]
  },
  {
   "cell_type": "code",
   "execution_count": 13,
   "metadata": {},
   "outputs": [],
   "source": [
    "from keras.constraints import Constraint\n",
    "from keras import backend as K\n",
    "\n",
    "class ClipWeights(Constraint):\n",
    "    def __init__(self, low, high):\n",
    "        self.low = low\n",
    "        self.high = high\n",
    "        \n",
    "    def __call__(self, weight):\n",
    "        return K.clip(weight, self.low, self.high)\n",
    "    "
   ]
  },
  {
   "cell_type": "markdown",
   "metadata": {},
   "source": [
    "Load keras NN libraries and create empty NN"
   ]
  },
  {
   "cell_type": "code",
   "execution_count": 14,
   "metadata": {},
   "outputs": [],
   "source": [
    "#Defining the model \n",
    "from keras.models import Sequential\n",
    "from keras.layers import Dense, Dropout, GaussianNoise\n",
    "from keras.optimizers import Adam\n",
    "\n",
    "model = Sequential()"
   ]
  },
  {
   "cell_type": "markdown",
   "metadata": {},
   "source": [
    "Add input layer for the 18 hardware counters\n",
    "Add one hidden layer\n",
    "And one output layer\n",
    "Then compile the model"
   ]
  },
  {
   "cell_type": "code",
   "execution_count": 15,
   "metadata": {},
   "outputs": [
    {
     "name": "stdout",
     "output_type": "stream",
     "text": [
      "Model: \"sequential_1\"\n",
      "_________________________________________________________________\n",
      "Layer (type)                 Output Shape              Param #   \n",
      "=================================================================\n",
      "dense_1 (Dense)              (None, 18)                342       \n",
      "_________________________________________________________________\n",
      "dropout_1 (Dropout)          (None, 18)                0         \n",
      "_________________________________________________________________\n",
      "dense_2 (Dense)              (None, 16)                304       \n",
      "_________________________________________________________________\n",
      "dropout_2 (Dropout)          (None, 16)                0         \n",
      "_________________________________________________________________\n",
      "dense_3 (Dense)              (None, 15)                255       \n",
      "=================================================================\n",
      "Total params: 901\n",
      "Trainable params: 901\n",
      "Non-trainable params: 0\n",
      "_________________________________________________________________\n"
     ]
    }
   ],
   "source": [
    "#model.add(GaussianNoise(0.0001, input_shape=(18,)))\n",
    "model.add(Dense(18, activation='selu', input_shape=(18,), kernel_constraint=ClipWeights(-10.0,10.0)))\n",
    "model.add(Dropout(0.1))\n",
    "model.add(Dense(16, activation='selu', kernel_constraint=ClipWeights(-10.0,10.0)))\n",
    "model.add(Dropout(0.1))\n",
    "model.add(Dense(15, activation='softmax', kernel_constraint=ClipWeights(-10.0,10.0)))\n",
    "\n",
    "model.compile(Adam(lr=0.001), 'categorical_crossentropy', metrics=['accuracy'])\n",
    "model.summary()"
   ]
  },
  {
   "cell_type": "markdown",
   "metadata": {},
   "source": [
    "Execute the neural network"
   ]
  },
  {
   "cell_type": "code",
   "execution_count": 16,
   "metadata": {
    "scrolled": false
   },
   "outputs": [
    {
     "name": "stdout",
     "output_type": "stream",
     "text": [
      "Train on 1238400 samples, validate on 309600 samples\n",
      "Epoch 1/24\n",
      "1238400/1238400 [==============================] - 22s 17us/step - loss: 0.7669 - accuracy: 0.7644 - val_loss: 0.3155 - val_accuracy: 0.9230\n",
      "Epoch 2/24\n",
      "1238400/1238400 [==============================] - 22s 17us/step - loss: 0.3246 - accuracy: 0.9038 - val_loss: 0.2291 - val_accuracy: 0.9403\n",
      "Epoch 3/24\n",
      "1238400/1238400 [==============================] - 22s 18us/step - loss: 0.2719 - accuracy: 0.9186 - val_loss: 0.2115 - val_accuracy: 0.9480\n",
      "Epoch 4/24\n",
      "1238400/1238400 [==============================] - 23s 19us/step - loss: 0.2498 - accuracy: 0.9246 - val_loss: 0.1835 - val_accuracy: 0.9475\n",
      "Epoch 5/24\n",
      "1238400/1238400 [==============================] - 23s 19us/step - loss: 0.2353 - accuracy: 0.9292 - val_loss: 0.1699 - val_accuracy: 0.9556\n",
      "Epoch 6/24\n",
      "1238400/1238400 [==============================] - 23s 19us/step - loss: 0.2247 - accuracy: 0.9323 - val_loss: 0.2152 - val_accuracy: 0.9294\n",
      "Epoch 7/24\n",
      "1238400/1238400 [==============================] - 23s 19us/step - loss: 0.2157 - accuracy: 0.9349 - val_loss: 0.1558 - val_accuracy: 0.9566\n",
      "Epoch 8/24\n",
      "1238400/1238400 [==============================] - 23s 19us/step - loss: 0.2100 - accuracy: 0.9364 - val_loss: 0.1494 - val_accuracy: 0.9642\n",
      "Epoch 9/24\n",
      "1238400/1238400 [==============================] - 23s 19us/step - loss: 0.2053 - accuracy: 0.9375 - val_loss: 0.1665 - val_accuracy: 0.9453\n",
      "Epoch 10/24\n",
      "1238400/1238400 [==============================] - 29s 24us/step - loss: 0.2013 - accuracy: 0.9388 - val_loss: 0.1676 - val_accuracy: 0.9495\n",
      "Epoch 11/24\n",
      "1238400/1238400 [==============================] - 25s 20us/step - loss: 0.1977 - accuracy: 0.9397 - val_loss: 0.1559 - val_accuracy: 0.9559\n",
      "Epoch 12/24\n",
      "1238400/1238400 [==============================] - 24s 20us/step - loss: 0.1941 - accuracy: 0.9406 - val_loss: 0.1564 - val_accuracy: 0.9528\n",
      "Epoch 13/24\n",
      "1238400/1238400 [==============================] - 22s 18us/step - loss: 0.1915 - accuracy: 0.9410 - val_loss: 0.1433 - val_accuracy: 0.9605\n",
      "Epoch 14/24\n",
      "1238400/1238400 [==============================] - 21s 17us/step - loss: 0.1873 - accuracy: 0.9421 - val_loss: 0.1590 - val_accuracy: 0.9521\n",
      "Epoch 15/24\n",
      "1238400/1238400 [==============================] - 23s 19us/step - loss: 0.1858 - accuracy: 0.9422 - val_loss: 0.1436 - val_accuracy: 0.9581\n",
      "Epoch 16/24\n",
      "1238400/1238400 [==============================] - 24s 19us/step - loss: 0.1842 - accuracy: 0.9427 - val_loss: 0.1345 - val_accuracy: 0.9648\n",
      "Epoch 17/24\n",
      "1238400/1238400 [==============================] - 22s 18us/step - loss: 0.1815 - accuracy: 0.9433 - val_loss: 0.1368 - val_accuracy: 0.9618\n",
      "Epoch 18/24\n",
      "1238400/1238400 [==============================] - 26s 21us/step - loss: 0.1804 - accuracy: 0.9435 - val_loss: 0.1332 - val_accuracy: 0.9574\n",
      "Epoch 19/24\n",
      "1238400/1238400 [==============================] - 24s 19us/step - loss: 0.1786 - accuracy: 0.9439 - val_loss: 0.1659 - val_accuracy: 0.9500\n",
      "Epoch 20/24\n",
      "1238400/1238400 [==============================] - 23s 19us/step - loss: 0.1776 - accuracy: 0.9440 - val_loss: 0.1445 - val_accuracy: 0.9550\n",
      "Epoch 21/24\n",
      "1238400/1238400 [==============================] - 25s 20us/step - loss: 0.1761 - accuracy: 0.9445 - val_loss: 0.1311 - val_accuracy: 0.9584\n",
      "Epoch 22/24\n",
      "1238400/1238400 [==============================] - 32s 26us/step - loss: 0.1756 - accuracy: 0.9447 - val_loss: 0.1277 - val_accuracy: 0.9586\n",
      "Epoch 23/24\n",
      "1238400/1238400 [==============================] - 23s 18us/step - loss: 0.1741 - accuracy: 0.9449 - val_loss: 0.1236 - val_accuracy: 0.9678\n",
      "Epoch 24/24\n",
      "1238400/1238400 [==============================] - 25s 20us/step - loss: 0.1725 - accuracy: 0.9456 - val_loss: 0.1542 - val_accuracy: 0.9541\n"
     ]
    }
   ],
   "source": [
    "history = model.fit(X_scaled,Y,batch_size=100,epochs=24,shuffle=True,validation_split=0.20)"
   ]
  },
  {
   "cell_type": "markdown",
   "metadata": {},
   "source": [
    "See the evolution of the model"
   ]
  },
  {
   "cell_type": "code",
   "execution_count": 17,
   "metadata": {
    "scrolled": false
   },
   "outputs": [
    {
     "data": {
      "image/png": "[encoded data removed]",
      "text/plain": [
       "<Figure size 720x720 with 1 Axes>"
      ]
     },
     "metadata": {
      "needs_background": "light"
     },
     "output_type": "display_data"
    }
   ],
   "source": [
    "from pylab import rcParams\n",
    "rcParams['figure.figsize'] = 10, 10\n",
    "plt.ylim(0.5,1)\n",
    "plt.plot(history.history['accuracy'])\n",
    "plt.plot(history.history['val_accuracy'])\n",
    "plt.title('model accuracy')\n",
    "plt.ylabel('accuracy')\n",
    "plt.xlabel('epoch')\n",
    "plt.legend(['train', 'test'], loc='upper left')\n",
    "plt.show()"
   ]
  },
  {
   "cell_type": "code",
   "execution_count": 18,
   "metadata": {},
   "outputs": [
    {
     "data": {
      "image/png": "[encoded data removed]",
      "text/plain": [
       "<Figure size 720x720 with 1 Axes>"
      ]
     },
     "metadata": {
      "needs_background": "light"
     },
     "output_type": "display_data"
    }
   ],
   "source": [
    "from pylab import rcParams\n",
    "rcParams['figure.figsize'] = 10, 10\n",
    "plt.plot(history.history['loss'])\n",
    "plt.plot(history.history['val_loss'])\n",
    "plt.title('model loss')\n",
    "plt.ylabel('loss')\n",
    "plt.xlabel('epoch')\n",
    "plt.legend(['train', 'test'], loc='upper left')\n",
    "plt.show()"
   ]
  },
  {
   "cell_type": "code",
   "execution_count": 19,
   "metadata": {},
   "outputs": [
    {
     "name": "stdout",
     "output_type": "stream",
     "text": [
      "Node #0 weights:\n",
      "\tmin:  -9.998 at:  14\n",
      "\tavg:  -1.992\n",
      "\tmax:   9.991 at:  15\n",
      "Node #0 bias:  -0.011\n",
      "\n",
      "Node #1 weights:\n",
      "\tmin:  -4.823 at:  14\n",
      "\tavg:   0.001\n",
      "\tmax:   4.874 at:  15\n",
      "Node #1 bias:   0.136\n",
      "\n",
      "Node #2 weights:\n",
      "\tmin:  -0.141 at:   1\n",
      "\tavg:   0.021\n",
      "\tmax:   0.469 at:   5\n",
      "Node #2 bias:   0.121\n",
      "\n",
      "Node #3 weights:\n",
      "\tmin:  -0.288 at:  12\n",
      "\tavg:  -0.049\n",
      "\tmax:   0.154 at:   7\n",
      "Node #3 bias:  -0.048\n",
      "\n",
      "Node #4 weights:\n",
      "\tmin:  -9.994 at:  13\n",
      "\tavg:  -0.089\n",
      "\tmax:   9.960 at:  12\n",
      "Node #4 bias:   0.101\n",
      "\n",
      "Node #5 weights:\n",
      "\tmin:  -3.459 at:  17\n",
      "\tavg:   0.292\n",
      "\tmax:   3.689 at:   7\n",
      "Node #5 bias:   0.075\n",
      "\n",
      "Node #6 weights:\n",
      "\tmin: -10.000 at:   2\n",
      "\tavg:   0.514\n",
      "\tmax:   9.936 at:   0\n",
      "Node #6 bias:   0.064\n",
      "\n",
      "Node #7 weights:\n",
      "\tmin:  -0.315 at:   1\n",
      "\tavg:   0.014\n",
      "\tmax:   0.580 at:   5\n",
      "Node #7 bias:  -0.157\n",
      "\n",
      "Node #8 weights:\n",
      "\tmin:  -0.250 at:  10\n",
      "\tavg:   0.019\n",
      "\tmax:   0.509 at:  16\n",
      "Node #8 bias:   0.124\n",
      "\n",
      "Node #9 weights:\n",
      "\tmin: -10.000 at:   9\n",
      "\tavg:   0.140\n",
      "\tmax:   7.455 at:   0\n",
      "Node #9 bias:  -0.060\n",
      "\n",
      "Node #10 weights:\n",
      "\tmin:  -9.206 at:   6\n",
      "\tavg:   1.135\n",
      "\tmax:   9.402 at:   8\n",
      "Node #10 bias:   0.050\n",
      "\n",
      "Node #11 weights:\n",
      "\tmin:  -9.557 at:   3\n",
      "\tavg:  -1.147\n",
      "\tmax:   9.297 at:  17\n",
      "Node #11 bias:   0.072\n",
      "\n",
      "Node #12 weights:\n",
      "\tmin:  -9.993 at:  14\n",
      "\tavg:  -0.579\n",
      "\tmax:   9.999 at:   3\n",
      "Node #12 bias:   0.220\n",
      "\n",
      "Node #13 weights:\n",
      "\tmin:  -0.408 at:  17\n",
      "\tavg:  -0.021\n",
      "\tmax:   0.362 at:  16\n",
      "Node #13 bias:  -0.026\n",
      "\n",
      "Node #14 weights:\n",
      "\tmin:  -2.890 at:   5\n",
      "\tavg:  -0.133\n",
      "\tmax:   2.474 at:   1\n",
      "Node #14 bias:   0.097\n",
      "\n",
      "Node #15 weights:\n",
      "\tmin:  -9.993 at:  14\n",
      "\tavg:  -0.136\n",
      "\tmax:  10.000 at:  16\n",
      "Node #15 bias:  -0.096\n",
      "\n",
      "Node #16 weights:\n",
      "\tmin:  -6.514 at:  15\n",
      "\tavg:   2.574\n",
      "\tmax:   9.997 at:  11\n",
      "Node #16 bias:  -0.013\n",
      "\n",
      "Node #17 weights:\n",
      "\tmin:  -6.884 at:   1\n",
      "\tavg:  -1.538\n",
      "\tmax:   5.273 at:  15\n",
      "Node #17 bias:   0.083\n",
      "\n",
      "Most common column for weight extrema:\n",
      "[ 0  1  2  3  5  6  7  8  9 10 11 12 13 14 15 16 17]\n",
      "\tCol: PAPI_L1_DCM   Freq: 2\n",
      "\tCol: PAPI_L3_TCM   Freq: 4\n",
      "\tCol: PAPI_TOT_INS  Freq: 1\n",
      "\tCol: PAPI_REF_CYC  Freq: 2\n",
      "\tCol: PAPI_SR_INS   Freq: 3\n",
      "\tCol: PAPI_BR_UCN   Freq: 1\n",
      "\tCol: PAPI_BR_CN    Freq: 2\n",
      "\tCol: PAPI_BR_TKN   Freq: 1\n",
      "\tCol: PAPI_BR_MSP   Freq: 1\n",
      "\tCol: PAPI_FP_OPS   Freq: 1\n",
      "\tCol: PAPI_L1_LDM   Freq: 1\n",
      "\tCol: PAPI_L1_STM   Freq: 2\n",
      "\tCol: PAPI_SP_OPS   Freq: 1\n",
      "\tCol: PAPI_LD_INS   Freq: 4\n",
      "\tCol: PAPI_L2_STM   Freq: 4\n",
      "\tCol: PAPI_TLB_DM   Freq: 3\n",
      "\tCol: PAPI_L2_DCH   Freq: 3\n",
      "Most Freq. Col: PAPI_L3_TCM   Freq 4\n"
     ]
    }
   ],
   "source": [
    "n = model.layers[0].get_weights()\n",
    "sig = []\n",
    "\n",
    "for i, (w, b) in enumerate(zip(n[0], n[1])):\n",
    "    print('Node #{} weights:'.format(i))\n",
    "    print('\\tmin: {0:7.3f} at: {1:3}\\n\\tavg: {2:7.3f}\\n\\tmax: {3:7.3f} at: {4:3}'.format(np.amin(w), \\\n",
    "        np.argmin(w), np.average(w), np.amax(w), np.argmax(w)))\n",
    "    print('Node #{0} bias: {1:7.3f}\\n'.format(i, b))\n",
    "    sig.append(np.argmin(w))\n",
    "    sig.append(np.argmax(w))\n",
    "    \n",
    "print('Most common column for weight extrema:')\n",
    "col = dataset.columns[1:19]\n",
    "uniq, cnts = np.unique(sig, return_counts=True)\n",
    "print(uniq)\n",
    "for (u, c) in zip(uniq, cnts):\n",
    "    print('\\tCol: {0:13s} Freq:{1:2d}'.format(col[u], c))\n",
    "    \n",
    "m_freq = np.argmax(cnts)\n",
    "print('Most Freq. Col: {0:13s} Freq{1:2d}'.format(col[m_freq], cnts[m_freq]))"
   ]
  },
  {
   "cell_type": "code",
   "execution_count": 20,
   "metadata": {},
   "outputs": [],
   "source": [
    "dataset_pred = dataset_NAS"
   ]
  },
  {
   "cell_type": "markdown",
   "metadata": {},
   "source": [
    "Divide dataset hardware performance counters and labels"
   ]
  },
  {
   "cell_type": "code",
   "execution_count": 21,
   "metadata": {},
   "outputs": [],
   "source": [
    "X_pred = dataset_pred.iloc[:,1:21].values\n",
    "y_pred = dataset_pred.iloc[:,0].values"
   ]
  },
  {
   "cell_type": "markdown",
   "metadata": {},
   "source": [
    "Normalize the data"
   ]
  },
  {
   "cell_type": "code",
   "execution_count": 22,
   "metadata": {},
   "outputs": [],
   "source": [
    "X_pred_scaled = scaler_x.fit_transform(X_pred)"
   ]
  },
  {
   "cell_type": "markdown",
   "metadata": {},
   "source": [
    "Use the network to predict the labels and transform the output to the pattern's labels"
   ]
  },
  {
   "cell_type": "code",
   "execution_count": 23,
   "metadata": {},
   "outputs": [],
   "source": [
    "predictions = model.predict_classes(X_pred_scaled)\n",
    "prediction_ = np.argmax(to_categorical(predictions), axis = 1)\n",
    "prediction_ = encoder.inverse_transform(prediction_)"
   ]
  },
  {
   "cell_type": "markdown",
   "metadata": {},
   "source": [
    "Classify the results in 'NAS pattern' predicted as: 'pattern (from patterns.csv)'"
   ]
  },
  {
   "cell_type": "code",
   "execution_count": 24,
   "metadata": {},
   "outputs": [],
   "source": [
    "predicted_as={}\n",
    "for i, j in zip(prediction_ , y_pred):\n",
    "    pattern_as = str(j + \" -- predicted as: \" + i)\n",
    "    if pattern_as not in predicted_as:\n",
    "        predicted_as[pattern_as] = 0\n",
    "    predicted_as[pattern_as] = predicted_as[pattern_as] + 1"
   ]
  },
  {
   "cell_type": "markdown",
   "metadata": {},
   "source": [
    "Store and show results"
   ]
  },
  {
   "cell_type": "code",
   "execution_count": 25,
   "metadata": {},
   "outputs": [
    {
     "name": "stdout",
     "output_type": "stream",
     "text": [
      "Add_BT -- predicted as: Add  -->  4639\n",
      "Add_BT -- predicted as: Scale  -->  185\n",
      "Scale_normztox -- predicted as: Scale  -->  1824\n",
      "Triad_BT -- predicted as: Stride2  -->  24\n",
      "Triad_Red_rhorr -- predicted as: 2D4PStencil  -->  13\n",
      "Triad_Red_rhorr -- predicted as: Reduction  -->  578\n",
      "Triad_Red_rhorr -- predicted as: Test  -->  1233\n",
      "Triad_multi_z_alpha_p -- predicted as: 2D4PStencil  -->  45150\n",
      "Triad_multi_z_alpha_p -- predicted as: Test  -->  450\n",
      "Triad_norm_temps -- predicted as: 2D4PStencil  -->  14\n",
      "Triad_norm_temps -- predicted as: Reduction  -->  537\n",
      "Triad_norm_temps -- predicted as: Test  -->  1273\n",
      "Triad_pr_beta_p -- predicted as: Triad  -->  45600\n",
      "Triad_similar_l2norm -- predicted as: Stride2  -->  96\n",
      "Triad_similar_qAp -- predicted as: Reduction  -->  45600\n",
      "Triad_ssor_triad -- predicted as: Triad  -->  6024\n"
     ]
    }
   ],
   "source": [
    "with open('NAS-cleaned.txt', 'a+') as out:\n",
    "    for i in sorted(predicted_as):\n",
    "        print ( i , \" --> \", predicted_as[i] )\n",
    "        out.write(str(i) +  \" --> \" + str(predicted_as[i]) + \"\\n\")\n",
    "    out.write(\"--------------------------------------------------------------------------\\n\")"
   ]
  },
  {
   "cell_type": "markdown",
   "metadata": {},
   "source": [
    "Number of row with each pattern"
   ]
  },
  {
   "cell_type": "code",
   "execution_count": 26,
   "metadata": {},
   "outputs": [
    {
     "data": {
      "text/plain": [
       "label\n",
       "Add_BT                    4824\n",
       "Scale_normztox            1824\n",
       "Triad_BT                    24\n",
       "Triad_Red_rhorr           1824\n",
       "Triad_multi_z_alpha_p    45600\n",
       "Triad_norm_temps          1824\n",
       "Triad_pr_beta_p          45600\n",
       "Triad_similar_l2norm        96\n",
       "Triad_similar_qAp        45600\n",
       "Triad_ssor_triad          6024\n",
       "dtype: int64"
      ]
     },
     "execution_count": 26,
     "metadata": {},
     "output_type": "execute_result"
    }
   ],
   "source": [
    "df = pd.DataFrame(dataset_NAS, columns= ['label'])\n",
    "df.pivot_table(index=['label'], aggfunc='size')"
   ]
  },
  {
   "cell_type": "code",
   "execution_count": 27,
   "metadata": {},
   "outputs": [],
   "source": [
    "#%%javascript\n",
    "#Jupyter.notebook.session.delete();"
   ]
  },
  {
   "cell_type": "code",
   "execution_count": null,
   "metadata": {},
   "outputs": [],
   "source": []
  },
  {
   "cell_type": "code",
   "execution_count": null,
   "metadata": {},
   "outputs": [],
   "source": []
  }
 ],
 "metadata": {
  "kernelspec": {
   "display_name": "Python 3",
   "language": "python",
   "name": "python3"
  },
  "language_info": {
   "codemirror_mode": {
    "name": "ipython",
    "version": 3
   },
   "file_extension": ".py",
   "mimetype": "text/x-python",
   "name": "python",
   "nbconvert_exporter": "python",
   "pygments_lexer": "ipython3",
   "version": "3.7.5"
  }
 },
 "nbformat": 4,
 "nbformat_minor": 2
}
