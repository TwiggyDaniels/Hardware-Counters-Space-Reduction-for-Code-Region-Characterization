{
 "cells": [
  {
   "cell_type": "markdown",
   "metadata": {},
   "source": [
    "# Using a Neural Networkt recognize execution patterns using hardware performance counters"
   ]
  },
  {
   "cell_type": "markdown",
   "metadata": {},
   "source": [
    "Load libraries and dataset"
   ]
  },
  {
   "cell_type": "code",
   "execution_count": 1,
   "metadata": {},
   "outputs": [
    {
     "name": "stderr",
     "output_type": "stream",
     "text": [
      "Using TensorFlow backend.\n",
      "/home/ssleder/.local/lib/python3.6/site-packages/tensorflow/python/framework/dtypes.py:516: FutureWarning: Passing (type, 1) or '1type' as a synonym of type is deprecated; in a future version of numpy, it will be understood as (type, (1,)) / '(1,)type'.\n",
      "  _np_qint8 = np.dtype([(\"qint8\", np.int8, 1)])\n",
      "/home/ssleder/.local/lib/python3.6/site-packages/tensorflow/python/framework/dtypes.py:517: FutureWarning: Passing (type, 1) or '1type' as a synonym of type is deprecated; in a future version of numpy, it will be understood as (type, (1,)) / '(1,)type'.\n",
      "  _np_quint8 = np.dtype([(\"quint8\", np.uint8, 1)])\n",
      "/home/ssleder/.local/lib/python3.6/site-packages/tensorflow/python/framework/dtypes.py:518: FutureWarning: Passing (type, 1) or '1type' as a synonym of type is deprecated; in a future version of numpy, it will be understood as (type, (1,)) / '(1,)type'.\n",
      "  _np_qint16 = np.dtype([(\"qint16\", np.int16, 1)])\n",
      "/home/ssleder/.local/lib/python3.6/site-packages/tensorflow/python/framework/dtypes.py:519: FutureWarning: Passing (type, 1) or '1type' as a synonym of type is deprecated; in a future version of numpy, it will be understood as (type, (1,)) / '(1,)type'.\n",
      "  _np_quint16 = np.dtype([(\"quint16\", np.uint16, 1)])\n",
      "/home/ssleder/.local/lib/python3.6/site-packages/tensorflow/python/framework/dtypes.py:520: FutureWarning: Passing (type, 1) or '1type' as a synonym of type is deprecated; in a future version of numpy, it will be understood as (type, (1,)) / '(1,)type'.\n",
      "  _np_qint32 = np.dtype([(\"qint32\", np.int32, 1)])\n",
      "/home/ssleder/.local/lib/python3.6/site-packages/tensorflow/python/framework/dtypes.py:525: FutureWarning: Passing (type, 1) or '1type' as a synonym of type is deprecated; in a future version of numpy, it will be understood as (type, (1,)) / '(1,)type'.\n",
      "  np_resource = np.dtype([(\"resource\", np.ubyte, 1)])\n",
      "/home/ssleder/.local/lib/python3.6/site-packages/tensorboard/compat/tensorflow_stub/dtypes.py:541: FutureWarning: Passing (type, 1) or '1type' as a synonym of type is deprecated; in a future version of numpy, it will be understood as (type, (1,)) / '(1,)type'.\n",
      "  _np_qint8 = np.dtype([(\"qint8\", np.int8, 1)])\n",
      "/home/ssleder/.local/lib/python3.6/site-packages/tensorboard/compat/tensorflow_stub/dtypes.py:542: FutureWarning: Passing (type, 1) or '1type' as a synonym of type is deprecated; in a future version of numpy, it will be understood as (type, (1,)) / '(1,)type'.\n",
      "  _np_quint8 = np.dtype([(\"quint8\", np.uint8, 1)])\n",
      "/home/ssleder/.local/lib/python3.6/site-packages/tensorboard/compat/tensorflow_stub/dtypes.py:543: FutureWarning: Passing (type, 1) or '1type' as a synonym of type is deprecated; in a future version of numpy, it will be understood as (type, (1,)) / '(1,)type'.\n",
      "  _np_qint16 = np.dtype([(\"qint16\", np.int16, 1)])\n",
      "/home/ssleder/.local/lib/python3.6/site-packages/tensorboard/compat/tensorflow_stub/dtypes.py:544: FutureWarning: Passing (type, 1) or '1type' as a synonym of type is deprecated; in a future version of numpy, it will be understood as (type, (1,)) / '(1,)type'.\n",
      "  _np_quint16 = np.dtype([(\"quint16\", np.uint16, 1)])\n",
      "/home/ssleder/.local/lib/python3.6/site-packages/tensorboard/compat/tensorflow_stub/dtypes.py:545: FutureWarning: Passing (type, 1) or '1type' as a synonym of type is deprecated; in a future version of numpy, it will be understood as (type, (1,)) / '(1,)type'.\n",
      "  _np_qint32 = np.dtype([(\"qint32\", np.int32, 1)])\n",
      "/home/ssleder/.local/lib/python3.6/site-packages/tensorboard/compat/tensorflow_stub/dtypes.py:550: FutureWarning: Passing (type, 1) or '1type' as a synonym of type is deprecated; in a future version of numpy, it will be understood as (type, (1,)) / '(1,)type'.\n",
      "  np_resource = np.dtype([(\"resource\", np.ubyte, 1)])\n"
     ]
    }
   ],
   "source": [
    "import numpy as np\n",
    "import pandas as pd\n",
    "import matplotlib.pyplot as plt\n",
    "import os\n",
    "from keras.utils import to_categorical\n",
    "import seaborn as sns\n",
    "dataset = pd.read_csv('patterns.csv',sep=';')\n",
    "dataset_NAS = pd.read_csv('NAS-clean.csv',sep=';')"
   ]
  },
  {
   "cell_type": "markdown",
   "metadata": {},
   "source": [
    "Shuffle data, necessary to mix the rows in the dataset in order to have training and testing data with all the cases.\n",
    "If the data is not shuffled, the cur for the test7train pair will be done at exacty the x-th position in the dataset."
   ]
  },
  {
   "cell_type": "code",
   "execution_count": 2,
   "metadata": {},
   "outputs": [
    {
     "name": "stdout",
     "output_type": "stream",
     "text": [
      "first: ['Test' '2PStencil' '2D4PStencil' 'Reduction' 'Triad' 'Add' 'Rows'\n",
      " 'Stride64' 'Scatter' 'Stride4' 'Stride16' 'Stride2' 'Gather' 'Scale'\n",
      " 'Copy']\n",
      "other: ['Add_BT' 'Triad_BT' 'Triad_Red_rhorr' 'Triad_similar_qAp'\n",
      " 'Triad_multi_z_alpha_p' 'Triad_pr_beta_p' 'Triad_norm_temps'\n",
      " 'Scale_normztox' 'Triad_similar_l2norm' 'Triad_ssor_triad']\n"
     ]
    }
   ],
   "source": [
    "from sklearn.utils import shuffle\n",
    "dataset = shuffle(dataset)\n",
    "print('first:', dataset['label'].unique())\n",
    "print('other:', dataset_NAS['label'].unique())"
   ]
  },
  {
   "cell_type": "code",
   "execution_count": 3,
   "metadata": {},
   "outputs": [
    {
     "data": {
      "text/plain": [
       "[1000,\n",
       " 2000,\n",
       " 3000,\n",
       " 4000,\n",
       " 5000,\n",
       " 6000,\n",
       " 7000,\n",
       " 8000,\n",
       " 9000,\n",
       " 10000,\n",
       " 20000,\n",
       " 30000,\n",
       " 40000,\n",
       " 50000,\n",
       " 60000,\n",
       " 70000,\n",
       " 80000,\n",
       " 90000,\n",
       " 100000,\n",
       " 200000,\n",
       " 300000,\n",
       " 400000,\n",
       " 500000,\n",
       " 600000,\n",
       " 700000,\n",
       " 800000,\n",
       " 900000,\n",
       " 1000000,\n",
       " 2000000,\n",
       " 3000000,\n",
       " 5000000,\n",
       " 7000000,\n",
       " 9000000,\n",
       " 20000000,\n",
       " 40000000,\n",
       " 60000000,\n",
       " 80000000,\n",
       " 100000000,\n",
       " 120000000,\n",
       " 140000000,\n",
       " 160000000,\n",
       " 180000000,\n",
       " 200000000]"
      ]
     },
     "execution_count": 3,
     "metadata": {},
     "output_type": "execute_result"
    }
   ],
   "source": [
    "sorted(dataset['size vector'].unique())"
   ]
  },
  {
   "cell_type": "markdown",
   "metadata": {},
   "source": [
    "Creating the dataset which will be used in the training step.\n",
    "Two sizes are removed in order to test if unseen data can be used to identify the patterns."
   ]
  },
  {
   "cell_type": "markdown",
   "metadata": {},
   "source": [
    "Generate the dataset with the two sizes to predict"
   ]
  },
  {
   "cell_type": "code",
   "execution_count": 4,
   "metadata": {},
   "outputs": [
    {
     "name": "stdout",
     "output_type": "stream",
     "text": [
      "Index(['id', 'size vector', 'comp opt', 'label', 'threads', 'PAPI_L1_DCM',\n",
      "       'PAPI_L3_TCM', 'PAPI_TOT_INS', 'PAPI_REF_CYC', 'PAPI_L2_LDM',\n",
      "       'PAPI_SR_INS', 'PAPI_BR_UCN', 'PAPI_BR_CN', 'PAPI_BR_TKN',\n",
      "       'PAPI_BR_MSP', 'PAPI_FP_OPS', 'PAPI_L1_LDM', 'PAPI_L1_STM',\n",
      "       'PAPI_SP_OPS', 'PAPI_LD_INS', 'PAPI_L2_STM', 'PAPI_TLB_DM',\n",
      "       'PAPI_L2_DCH', 'affinity'],\n",
      "      dtype='object')\n"
     ]
    }
   ],
   "source": [
    "print(dataset.columns)"
   ]
  },
  {
   "cell_type": "markdown",
   "metadata": {},
   "source": [
    "Remove extra columns and hardware performance counters discarded with PCA"
   ]
  },
  {
   "cell_type": "code",
   "execution_count": 5,
   "metadata": {},
   "outputs": [
    {
     "name": "stdout",
     "output_type": "stream",
     "text": [
      "<class 'pandas.core.frame.DataFrame'>\n",
      "RangeIndex: 1548000 entries, 0 to 1547999\n",
      "Data columns (total 19 columns):\n",
      "label           1548000 non-null object\n",
      "PAPI_L1_DCM     1548000 non-null int64\n",
      "PAPI_L3_TCM     1548000 non-null int64\n",
      "PAPI_TOT_INS    1548000 non-null int64\n",
      "PAPI_REF_CYC    1548000 non-null int64\n",
      "PAPI_L2_LDM     1548000 non-null int64\n",
      "PAPI_SR_INS     1548000 non-null int64\n",
      "PAPI_BR_UCN     1548000 non-null int64\n",
      "PAPI_BR_CN      1548000 non-null int64\n",
      "PAPI_BR_TKN     1548000 non-null int64\n",
      "PAPI_BR_MSP     1548000 non-null int64\n",
      "PAPI_FP_OPS     1548000 non-null int64\n",
      "PAPI_L1_LDM     1548000 non-null int64\n",
      "PAPI_L1_STM     1548000 non-null int64\n",
      "PAPI_SP_OPS     1548000 non-null int64\n",
      "PAPI_LD_INS     1548000 non-null int64\n",
      "PAPI_L2_STM     1548000 non-null int64\n",
      "PAPI_TLB_DM     1548000 non-null int64\n",
      "PAPI_L2_DCH     1548000 non-null int64\n",
      "dtypes: int64(18), object(1)\n",
      "memory usage: 224.4+ MB\n"
     ]
    }
   ],
   "source": [
    "def erase_from_dataset(dataset_in):\n",
    "    del dataset_in['id']\n",
    "    del dataset_in['size vector']\n",
    "    del dataset_in['comp opt']\n",
    "    del dataset_in['threads']\n",
    "    del dataset_in['affinity']\n",
    "    dataset_in = dataset_in.reset_index(drop=True)\n",
    "    dataset_in.info()\n",
    "    \n",
    "erase_from_dataset(dataset)"
   ]
  },
  {
   "cell_type": "code",
   "execution_count": 6,
   "metadata": {},
   "outputs": [
    {
     "name": "stdout",
     "output_type": "stream",
     "text": [
      "<class 'pandas.core.frame.DataFrame'>\n",
      "RangeIndex: 153240 entries, 0 to 153239\n",
      "Data columns (total 19 columns):\n",
      "label           153240 non-null object\n",
      "PAPI_L1_DCM     153240 non-null int64\n",
      "PAPI_L3_TCM     153240 non-null int64\n",
      "PAPI_TOT_INS    153240 non-null int64\n",
      "PAPI_REF_CYC    153240 non-null int64\n",
      "PAPI_L2_LDM     153240 non-null int64\n",
      "PAPI_SR_INS     153240 non-null int64\n",
      "PAPI_BR_UCN     153240 non-null int64\n",
      "PAPI_BR_CN      153240 non-null int64\n",
      "PAPI_BR_TKN     153240 non-null int64\n",
      "PAPI_BR_MSP     153240 non-null int64\n",
      "PAPI_FP_OPS     153240 non-null int64\n",
      "PAPI_L1_LDM     153240 non-null int64\n",
      "PAPI_L1_STM     153240 non-null int64\n",
      "PAPI_SP_OPS     153240 non-null int64\n",
      "PAPI_LD_INS     153240 non-null int64\n",
      "PAPI_L2_STM     153240 non-null int64\n",
      "PAPI_TLB_DM     153240 non-null int64\n",
      "PAPI_L2_DCH     153240 non-null int64\n",
      "dtypes: int64(18), object(1)\n",
      "memory usage: 22.2+ MB\n"
     ]
    }
   ],
   "source": [
    "def erase_from_dataset_NAS(dataset_in):\n",
    "    del dataset_in['id']\n",
    "    del dataset_in['size vector']\n",
    "    del dataset_in['comp opt']\n",
    "    del dataset_in['threads']\n",
    "    del dataset_in['affinity']\n",
    "    dataset_in = dataset_in.reset_index(drop=True)\n",
    "    dataset_in.info()\n",
    "    \n",
    "erase_from_dataset_NAS(dataset_NAS)"
   ]
  },
  {
   "cell_type": "code",
   "execution_count": 7,
   "metadata": {},
   "outputs": [
    {
     "data": {
      "text/plain": [
       "Index(['label', 'PAPI_L1_DCM', 'PAPI_L3_TCM', 'PAPI_TOT_INS', 'PAPI_REF_CYC',\n",
       "       'PAPI_L2_LDM', 'PAPI_SR_INS', 'PAPI_BR_UCN', 'PAPI_BR_CN',\n",
       "       'PAPI_BR_TKN', 'PAPI_BR_MSP', 'PAPI_FP_OPS', 'PAPI_L1_LDM',\n",
       "       'PAPI_L1_STM', 'PAPI_SP_OPS', 'PAPI_LD_INS', 'PAPI_L2_STM',\n",
       "       'PAPI_TLB_DM', 'PAPI_L2_DCH'],\n",
       "      dtype='object')"
      ]
     },
     "execution_count": 7,
     "metadata": {},
     "output_type": "execute_result"
    }
   ],
   "source": [
    "dataset.columns"
   ]
  },
  {
   "cell_type": "code",
   "execution_count": 8,
   "metadata": {},
   "outputs": [
    {
     "data": {
      "text/plain": [
       "Index(['label', 'PAPI_L1_DCM', 'PAPI_L3_TCM', 'PAPI_TOT_INS', 'PAPI_REF_CYC',\n",
       "       'PAPI_L2_LDM', 'PAPI_SR_INS', 'PAPI_BR_UCN', 'PAPI_BR_CN',\n",
       "       'PAPI_BR_TKN', 'PAPI_BR_MSP', 'PAPI_FP_OPS', 'PAPI_L1_LDM',\n",
       "       'PAPI_L1_STM', 'PAPI_SP_OPS', 'PAPI_LD_INS', 'PAPI_L2_STM',\n",
       "       'PAPI_TLB_DM', 'PAPI_L2_DCH'],\n",
       "      dtype='object')"
      ]
     },
     "execution_count": 8,
     "metadata": {},
     "output_type": "execute_result"
    }
   ],
   "source": [
    "dataset_NAS.columns"
   ]
  },
  {
   "cell_type": "code",
   "execution_count": 9,
   "metadata": {},
   "outputs": [
    {
     "data": {
      "text/plain": [
       "Index([], dtype='object')"
      ]
     },
     "execution_count": 9,
     "metadata": {},
     "output_type": "execute_result"
    }
   ],
   "source": [
    "dataset_NAS.columns.difference(dataset.columns)"
   ]
  },
  {
   "cell_type": "markdown",
   "metadata": {},
   "source": [
    "Divide dataset hardware performance counters and labels"
   ]
  },
  {
   "cell_type": "code",
   "execution_count": 10,
   "metadata": {},
   "outputs": [],
   "source": [
    "X = dataset.iloc[:,1:19].values\n",
    "y = dataset.iloc[:,0].values"
   ]
  },
  {
   "cell_type": "markdown",
   "metadata": {},
   "source": [
    "Normalize data"
   ]
  },
  {
   "cell_type": "code",
   "execution_count": 11,
   "metadata": {},
   "outputs": [],
   "source": [
    "from sklearn.preprocessing import Normalizer\n",
    "scaler_x = Normalizer()\n",
    "scaler_x.fit(X)\n",
    "X_scaled =  scaler_x.transform(X)"
   ]
  },
  {
   "cell_type": "markdown",
   "metadata": {},
   "source": [
    "Encode labels in numeric categories"
   ]
  },
  {
   "cell_type": "code",
   "execution_count": 12,
   "metadata": {},
   "outputs": [],
   "source": [
    "from sklearn.preprocessing import LabelEncoder\n",
    "encoder =  LabelEncoder()\n",
    "y1 = encoder.fit_transform(y)\n",
    "Y = pd.get_dummies(y1).values"
   ]
  },
  {
   "cell_type": "code",
   "execution_count": 13,
   "metadata": {},
   "outputs": [],
   "source": [
    "from keras.constraints import Constraint\n",
    "from keras import backend as K\n",
    "\n",
    "class ClipWeights(Constraint):\n",
    "    def __init__(self, low, high):\n",
    "        self.low = low\n",
    "        self.high = high\n",
    "        \n",
    "    def __call__(self, weight):\n",
    "        return K.clip(weight, self.low, self.high)\n",
    "    "
   ]
  },
  {
   "cell_type": "markdown",
   "metadata": {},
   "source": [
    "Load keras NN libraries and create empty NN"
   ]
  },
  {
   "cell_type": "code",
   "execution_count": 14,
   "metadata": {},
   "outputs": [],
   "source": [
    "#Defining the model \n",
    "from keras.models import Sequential\n",
    "from keras.layers import Dense, Dropout, GaussianNoise\n",
    "from keras.optimizers import Adam\n",
    "\n",
    "model = Sequential()"
   ]
  },
  {
   "cell_type": "markdown",
   "metadata": {},
   "source": [
    "Add input layer for the 18 hardware counters\n",
    "Add one hidden layer\n",
    "And one output layer\n",
    "Then compile the model"
   ]
  },
  {
   "cell_type": "code",
   "execution_count": 15,
   "metadata": {},
   "outputs": [
    {
     "name": "stdout",
     "output_type": "stream",
     "text": [
      "WARNING:tensorflow:From /home/ssleder/.local/lib/python3.6/site-packages/keras/backend/tensorflow_backend.py:3313: add_dispatch_support.<locals>.wrapper (from tensorflow.python.ops.array_ops) is deprecated and will be removed in a future version.\n",
      "Instructions for updating:\n",
      "Use tf.where in 2.0, which has the same broadcast rule as np.where\n",
      "Model: \"sequential_1\"\n",
      "_________________________________________________________________\n",
      "Layer (type)                 Output Shape              Param #   \n",
      "=================================================================\n",
      "dense_1 (Dense)              (None, 18)                342       \n",
      "_________________________________________________________________\n",
      "dropout_1 (Dropout)          (None, 18)                0         \n",
      "_________________________________________________________________\n",
      "dense_2 (Dense)              (None, 16)                304       \n",
      "_________________________________________________________________\n",
      "dropout_2 (Dropout)          (None, 16)                0         \n",
      "_________________________________________________________________\n",
      "dense_3 (Dense)              (None, 15)                255       \n",
      "=================================================================\n",
      "Total params: 901\n",
      "Trainable params: 901\n",
      "Non-trainable params: 0\n",
      "_________________________________________________________________\n"
     ]
    }
   ],
   "source": [
    "#model.add(GaussianNoise(0.0001, input_shape=(18,)))\n",
    "model.add(Dense(18, activation='selu', input_shape=(18,), kernel_constraint=ClipWeights(-10.0,10.0)))\n",
    "model.add(Dropout(0.1))\n",
    "model.add(Dense(16, activation='selu', kernel_constraint=ClipWeights(-10.0,10.0)))\n",
    "model.add(Dropout(0.1))\n",
    "model.add(Dense(15, activation='softmax', kernel_constraint=ClipWeights(-10.0,10.0)))\n",
    "\n",
    "model.compile(Adam(lr=0.001), 'categorical_crossentropy', metrics=['accuracy'])\n",
    "model.summary()"
   ]
  },
  {
   "cell_type": "markdown",
   "metadata": {},
   "source": [
    "Execute the neural network"
   ]
  },
  {
   "cell_type": "code",
   "execution_count": null,
   "metadata": {},
   "outputs": [],
   "source": []
  },
  {
   "cell_type": "code",
   "execution_count": 16,
   "metadata": {
    "scrolled": false
   },
   "outputs": [
    {
     "name": "stdout",
     "output_type": "stream",
     "text": [
      "WARNING:tensorflow:From /home/ssleder/.local/lib/python3.6/site-packages/keras/backend/tensorflow_backend.py:422: The name tf.global_variables is deprecated. Please use tf.compat.v1.global_variables instead.\n",
      "\n",
      "Train on 1238400 samples, validate on 309600 samples\n",
      "Epoch 1/24\n",
      "1238400/1238400 [==============================] - 30s 24us/step - loss: 0.7832 - accuracy: 0.7601 - val_loss: 0.3102 - val_accuracy: 0.9260\n",
      "Epoch 2/24\n",
      "1238400/1238400 [==============================] - 29s 24us/step - loss: 0.3348 - accuracy: 0.9006 - val_loss: 0.2402 - val_accuracy: 0.9264\n",
      "Epoch 3/24\n",
      "1238400/1238400 [==============================] - 28s 23us/step - loss: 0.2803 - accuracy: 0.9167 - val_loss: 0.2116 - val_accuracy: 0.9500\n",
      "Epoch 4/24\n",
      "1238400/1238400 [==============================] - 41s 33us/step - loss: 0.2544 - accuracy: 0.9243 - val_loss: 0.1780 - val_accuracy: 0.9531\n",
      "Epoch 5/24\n",
      "1238400/1238400 [==============================] - 30s 24us/step - loss: 0.2375 - accuracy: 0.9294 - val_loss: 0.1950 - val_accuracy: 0.9408\n",
      "Epoch 6/24\n",
      "1238400/1238400 [==============================] - 28s 23us/step - loss: 0.2259 - accuracy: 0.9320 - val_loss: 0.1676 - val_accuracy: 0.9574\n",
      "Epoch 7/24\n",
      "1238400/1238400 [==============================] - 29s 23us/step - loss: 0.2173 - accuracy: 0.9348 - val_loss: 0.1634 - val_accuracy: 0.9587\n",
      "Epoch 8/24\n",
      "1238400/1238400 [==============================] - 28s 23us/step - loss: 0.2095 - accuracy: 0.9362 - val_loss: 0.1785 - val_accuracy: 0.9447\n",
      "Epoch 9/24\n",
      "1238400/1238400 [==============================] - 29s 24us/step - loss: 0.2047 - accuracy: 0.9378 - val_loss: 0.1603 - val_accuracy: 0.9518\n",
      "Epoch 10/24\n",
      "1238400/1238400 [==============================] - 30s 24us/step - loss: 0.1986 - accuracy: 0.9392 - val_loss: 0.1336 - val_accuracy: 0.9612\n",
      "Epoch 11/24\n",
      "1238400/1238400 [==============================] - 30s 24us/step - loss: 0.1947 - accuracy: 0.9400 - val_loss: 0.1495 - val_accuracy: 0.9513\n",
      "Epoch 12/24\n",
      "1238400/1238400 [==============================] - 30s 24us/step - loss: 0.1911 - accuracy: 0.9410 - val_loss: 0.1360 - val_accuracy: 0.9570\n",
      "Epoch 13/24\n",
      "1238400/1238400 [==============================] - 30s 24us/step - loss: 0.1876 - accuracy: 0.9416 - val_loss: 0.1271 - val_accuracy: 0.9683\n",
      "Epoch 14/24\n",
      "1238400/1238400 [==============================] - 30s 24us/step - loss: 0.1846 - accuracy: 0.9424 - val_loss: 0.1318 - val_accuracy: 0.9627\n",
      "Epoch 15/24\n",
      "1238400/1238400 [==============================] - 30s 24us/step - loss: 0.1821 - accuracy: 0.9429 - val_loss: 0.1191 - val_accuracy: 0.9634\n",
      "Epoch 16/24\n",
      "1238400/1238400 [==============================] - 32s 26us/step - loss: 0.1802 - accuracy: 0.9433 - val_loss: 0.1246 - val_accuracy: 0.9602\n",
      "Epoch 17/24\n",
      "1238400/1238400 [==============================] - 34s 27us/step - loss: 0.1768 - accuracy: 0.9443 - val_loss: 0.1241 - val_accuracy: 0.9598\n",
      "Epoch 18/24\n",
      "1238400/1238400 [==============================] - 31s 25us/step - loss: 0.1744 - accuracy: 0.9446 - val_loss: 0.1181 - val_accuracy: 0.9626\n",
      "Epoch 19/24\n",
      "1238400/1238400 [==============================] - 30s 24us/step - loss: 0.1724 - accuracy: 0.9452 - val_loss: 0.1628 - val_accuracy: 0.9428\n",
      "Epoch 20/24\n",
      "1238400/1238400 [==============================] - 29s 24us/step - loss: 0.1715 - accuracy: 0.9453 - val_loss: 0.1169 - val_accuracy: 0.9663\n",
      "Epoch 21/24\n",
      "1238400/1238400 [==============================] - 30s 24us/step - loss: 0.1705 - accuracy: 0.9456 - val_loss: 0.1546 - val_accuracy: 0.9455\n",
      "Epoch 22/24\n",
      "1238400/1238400 [==============================] - 29s 24us/step - loss: 0.1681 - accuracy: 0.9464 - val_loss: 0.1153 - val_accuracy: 0.9664\n",
      "Epoch 23/24\n",
      "1238400/1238400 [==============================] - 29s 23us/step - loss: 0.1680 - accuracy: 0.9462 - val_loss: 0.1120 - val_accuracy: 0.9668\n",
      "Epoch 24/24\n",
      "1238400/1238400 [==============================] - 29s 24us/step - loss: 0.1665 - accuracy: 0.9464 - val_loss: 0.1257 - val_accuracy: 0.9612\n"
     ]
    }
   ],
   "source": [
    "history = model.fit(X_scaled,Y,batch_size=100,epochs=24,shuffle=True,validation_split=0.20)"
   ]
  },
  {
   "cell_type": "markdown",
   "metadata": {},
   "source": [
    "See the evolution of the model"
   ]
  },
  {
   "cell_type": "code",
   "execution_count": 17,
   "metadata": {
    "scrolled": false
   },
   "outputs": [
    {
     "data": {
      "image/png": "[encoded data removed]",
      "text/plain": [
       "<Figure size 720x720 with 1 Axes>"
      ]
     },
     "metadata": {
      "needs_background": "light"
     },
     "output_type": "display_data"
    }
   ],
   "source": [
    "from pylab import rcParams\n",
    "rcParams['figure.figsize'] = 10, 10\n",
    "plt.ylim(0.5,1)\n",
    "plt.plot(history.history['accuracy'])\n",
    "plt.plot(history.history['val_accuracy'])\n",
    "plt.title('model accuracy')\n",
    "plt.ylabel('accuracy')\n",
    "plt.xlabel('epoch')\n",
    "plt.legend(['train', 'test'], loc='upper left')\n",
    "plt.show()"
   ]
  },
  {
   "cell_type": "code",
   "execution_count": 18,
   "metadata": {},
   "outputs": [
    {
     "data": {
      "image/png": "[encoded data removed]",
      "text/plain": [
       "<Figure size 720x720 with 1 Axes>"
      ]
     },
     "metadata": {
      "needs_background": "light"
     },
     "output_type": "display_data"
    }
   ],
   "source": [
    "from pylab import rcParams\n",
    "rcParams['figure.figsize'] = 10, 10\n",
    "plt.plot(history.history['loss'])\n",
    "plt.plot(history.history['val_loss'])\n",
    "plt.title('model loss')\n",
    "plt.ylabel('loss')\n",
    "plt.xlabel('epoch')\n",
    "plt.legend(['train', 'test'], loc='upper left')\n",
    "plt.show()"
   ]
  },
  {
   "cell_type": "code",
   "execution_count": 19,
   "metadata": {},
   "outputs": [
    {
     "name": "stdout",
     "output_type": "stream",
     "text": [
      "Node #0 weights:\n",
      "\tmin:  -9.944 at:   8\n",
      "\tavg:   0.499\n",
      "\tmax:   9.999 at:   9\n",
      "Node #0 bias:  -0.080\n",
      "\n",
      "Node #1 weights:\n",
      "\tmin:  -5.631 at:   8\n",
      "\tavg:  -0.144\n",
      "\tmax:   3.024 at:  16\n",
      "Node #1 bias:   0.070\n",
      "\n",
      "Node #2 weights:\n",
      "\tmin:  -0.114 at:   1\n",
      "\tavg:  -0.011\n",
      "\tmax:   0.091 at:   0\n",
      "Node #2 bias:   0.198\n",
      "\n",
      "Node #3 weights:\n",
      "\tmin:  -0.224 at:   8\n",
      "\tavg:   0.031\n",
      "\tmax:   0.226 at:  11\n",
      "Node #3 bias:  -0.068\n",
      "\n",
      "Node #4 weights:\n",
      "\tmin:  -8.512 at:   5\n",
      "\tavg:   0.609\n",
      "\tmax:   9.998 at:   3\n",
      "Node #4 bias:  -0.082\n",
      "\n",
      "Node #5 weights:\n",
      "\tmin:  -3.918 at:   1\n",
      "\tavg:  -0.266\n",
      "\tmax:   3.634 at:  13\n",
      "Node #5 bias:  -0.116\n",
      "\n",
      "Node #6 weights:\n",
      "\tmin:  -9.997 at:  16\n",
      "\tavg:   0.519\n",
      "\tmax:   9.990 at:   7\n",
      "Node #6 bias:   0.002\n",
      "\n",
      "Node #7 weights:\n",
      "\tmin:  -0.641 at:  11\n",
      "\tavg:  -0.036\n",
      "\tmax:   0.129 at:   9\n",
      "Node #7 bias:  -0.099\n",
      "\n",
      "Node #8 weights:\n",
      "\tmin:  -0.310 at:  10\n",
      "\tavg:   0.029\n",
      "\tmax:   0.929 at:  11\n",
      "Node #8 bias:   0.225\n",
      "\n",
      "Node #9 weights:\n",
      "\tmin:  -9.994 at:  13\n",
      "\tavg:   0.477\n",
      "\tmax:   9.989 at:   7\n",
      "Node #9 bias:   0.124\n",
      "\n",
      "Node #10 weights:\n",
      "\tmin:  -9.997 at:   0\n",
      "\tavg:  -0.613\n",
      "\tmax:   8.370 at:  12\n",
      "Node #10 bias:  -0.135\n",
      "\n",
      "Node #11 weights:\n",
      "\tmin:  -9.189 at:   5\n",
      "\tavg:   0.507\n",
      "\tmax:   9.825 at:  10\n",
      "Node #11 bias:  -0.210\n",
      "\n",
      "Node #12 weights:\n",
      "\tmin:  -9.986 at:   3\n",
      "\tavg:   1.273\n",
      "\tmax:  10.000 at:  15\n",
      "Node #12 bias:  -0.099\n",
      "\n",
      "Node #13 weights:\n",
      "\tmin:  -0.395 at:   0\n",
      "\tavg:   0.029\n",
      "\tmax:   0.401 at:   6\n",
      "Node #13 bias:   0.090\n",
      "\n",
      "Node #14 weights:\n",
      "\tmin:  -0.270 at:   8\n",
      "\tavg:   0.142\n",
      "\tmax:   0.878 at:  11\n",
      "Node #14 bias:  -0.050\n",
      "\n",
      "Node #15 weights:\n",
      "\tmin: -10.000 at:   3\n",
      "\tavg:   1.453\n",
      "\tmax:  10.000 at:   5\n",
      "Node #15 bias:  -0.089\n",
      "\n",
      "Node #16 weights:\n",
      "\tmin:  -6.979 at:  15\n",
      "\tavg:   0.181\n",
      "\tmax:   5.866 at:  11\n",
      "Node #16 bias:  -0.126\n",
      "\n",
      "Node #17 weights:\n",
      "\tmin:  -4.694 at:   8\n",
      "\tavg:   0.423\n",
      "\tmax:   4.263 at:   1\n",
      "Node #17 bias:  -0.079\n",
      "\n",
      "Most common column for weight extrema:\n",
      "[ 0  1  3  5  6  7  8  9 10 11 12 13 15 16]\n",
      "\tCol: PAPI_L1_DCM   Freq: 3\n",
      "\tCol: PAPI_L3_TCM   Freq: 3\n",
      "\tCol: PAPI_REF_CYC  Freq: 3\n",
      "\tCol: PAPI_SR_INS   Freq: 3\n",
      "\tCol: PAPI_BR_UCN   Freq: 1\n",
      "\tCol: PAPI_BR_CN    Freq: 2\n",
      "\tCol: PAPI_BR_TKN   Freq: 5\n",
      "\tCol: PAPI_BR_MSP   Freq: 2\n",
      "\tCol: PAPI_FP_OPS   Freq: 2\n",
      "\tCol: PAPI_L1_LDM   Freq: 5\n",
      "\tCol: PAPI_L1_STM   Freq: 1\n",
      "\tCol: PAPI_SP_OPS   Freq: 2\n",
      "\tCol: PAPI_L2_STM   Freq: 2\n",
      "\tCol: PAPI_TLB_DM   Freq: 2\n",
      "Most Freq. Col: PAPI_BR_UCN   Freq 5\n"
     ]
    }
   ],
   "source": [
    "n = model.layers[0].get_weights()\n",
    "sig = []\n",
    "\n",
    "for i, (w, b) in enumerate(zip(n[0], n[1])):\n",
    "    print('Node #{} weights:'.format(i))\n",
    "    print('\\tmin: {0:7.3f} at: {1:3}\\n\\tavg: {2:7.3f}\\n\\tmax: {3:7.3f} at: {4:3}'.format(np.amin(w), \\\n",
    "        np.argmin(w), np.average(w), np.amax(w), np.argmax(w)))\n",
    "    print('Node #{0} bias: {1:7.3f}\\n'.format(i, b))\n",
    "    sig.append(np.argmin(w))\n",
    "    sig.append(np.argmax(w))\n",
    "    \n",
    "print('Most common column for weight extrema:')\n",
    "col = dataset.columns[1:19]\n",
    "uniq, cnts = np.unique(sig, return_counts=True)\n",
    "print(uniq)\n",
    "for (u, c) in zip(uniq, cnts):\n",
    "    print('\\tCol: {0:13s} Freq:{1:2d}'.format(col[u], c))\n",
    "    \n",
    "m_freq = np.argmax(cnts)\n",
    "print('Most Freq. Col: {0:13s} Freq{1:2d}'.format(col[m_freq], cnts[m_freq]))"
   ]
  },
  {
   "cell_type": "code",
   "execution_count": 20,
   "metadata": {},
   "outputs": [],
   "source": [
    "dataset_pred = dataset_NAS"
   ]
  },
  {
   "cell_type": "markdown",
   "metadata": {},
   "source": [
    "Divide dataset hardware performance counters and labels"
   ]
  },
  {
   "cell_type": "code",
   "execution_count": 21,
   "metadata": {},
   "outputs": [],
   "source": [
    "X_pred = dataset_pred.iloc[:,1:21].values\n",
    "y_pred = dataset_pred.iloc[:,0].values"
   ]
  },
  {
   "cell_type": "markdown",
   "metadata": {},
   "source": [
    "Normalize the data"
   ]
  },
  {
   "cell_type": "code",
   "execution_count": 22,
   "metadata": {},
   "outputs": [],
   "source": [
    "X_pred_scaled = scaler_x.fit_transform(X_pred)"
   ]
  },
  {
   "cell_type": "markdown",
   "metadata": {},
   "source": [
    "Use the network to predict the labels and transform the output to the pattern's labels"
   ]
  },
  {
   "cell_type": "code",
   "execution_count": 23,
   "metadata": {},
   "outputs": [],
   "source": [
    "predictions = model.predict_classes(X_pred_scaled)\n",
    "prediction_ = np.argmax(to_categorical(predictions), axis = 1)\n",
    "prediction_ = encoder.inverse_transform(prediction_)"
   ]
  },
  {
   "cell_type": "markdown",
   "metadata": {},
   "source": [
    "Classify the results in 'NAS pattern' predicted as: 'pattern (from patterns.csv)'"
   ]
  },
  {
   "cell_type": "code",
   "execution_count": 24,
   "metadata": {},
   "outputs": [],
   "source": [
    "predicted_as={}\n",
    "for i, j in zip(prediction_ , y_pred):\n",
    "    pattern_as = str(j + \" -- predicted as: \" + i)\n",
    "    if pattern_as not in predicted_as:\n",
    "        predicted_as[pattern_as] = 0\n",
    "    predicted_as[pattern_as] = predicted_as[pattern_as] + 1"
   ]
  },
  {
   "cell_type": "markdown",
   "metadata": {},
   "source": [
    "Store and show results"
   ]
  },
  {
   "cell_type": "code",
   "execution_count": 25,
   "metadata": {},
   "outputs": [
    {
     "name": "stdout",
     "output_type": "stream",
     "text": [
      "Add_BT -- predicted as: Add  -->  4745\n",
      "Add_BT -- predicted as: Triad  -->  79\n",
      "Scale_normztox -- predicted as: Scale  -->  1824\n",
      "Triad_BT -- predicted as: Test  -->  24\n",
      "Triad_Red_rhorr -- predicted as: Reduction  -->  1820\n",
      "Triad_Red_rhorr -- predicted as: Test  -->  4\n",
      "Triad_multi_z_alpha_p -- predicted as: 2D4PStencil  -->  45600\n",
      "Triad_norm_temps -- predicted as: Reduction  -->  1822\n",
      "Triad_norm_temps -- predicted as: Test  -->  2\n",
      "Triad_pr_beta_p -- predicted as: Triad  -->  45600\n",
      "Triad_similar_l2norm -- predicted as: Test  -->  96\n",
      "Triad_similar_qAp -- predicted as: Reduction  -->  45600\n",
      "Triad_ssor_triad -- predicted as: Triad  -->  6024\n"
     ]
    }
   ],
   "source": [
    "with open('NAS-cleaned.txt', 'a+') as out:\n",
    "    for i in sorted(predicted_as):\n",
    "        print ( i , \" --> \", predicted_as[i] )\n",
    "        out.write(str(i) +  \" --> \" + str(predicted_as[i]) + \"\\n\")\n",
    "    out.write(\"--------------------------------------------------------------------------\\n\")"
   ]
  },
  {
   "cell_type": "markdown",
   "metadata": {},
   "source": [
    "Number of row with each pattern"
   ]
  },
  {
   "cell_type": "code",
   "execution_count": 26,
   "metadata": {},
   "outputs": [
    {
     "data": {
      "text/plain": [
       "label\n",
       "Add_BT                    4824\n",
       "Scale_normztox            1824\n",
       "Triad_BT                    24\n",
       "Triad_Red_rhorr           1824\n",
       "Triad_multi_z_alpha_p    45600\n",
       "Triad_norm_temps          1824\n",
       "Triad_pr_beta_p          45600\n",
       "Triad_similar_l2norm        96\n",
       "Triad_similar_qAp        45600\n",
       "Triad_ssor_triad          6024\n",
       "dtype: int64"
      ]
     },
     "execution_count": 26,
     "metadata": {},
     "output_type": "execute_result"
    }
   ],
   "source": [
    "df = pd.DataFrame(dataset_NAS, columns= ['label'])\n",
    "df.pivot_table(index=['label'], aggfunc='size')"
   ]
  },
  {
   "cell_type": "code",
   "execution_count": 27,
   "metadata": {},
   "outputs": [],
   "source": [
    "#%%javascript\n",
    "#Jupyter.notebook.session.delete();"
   ]
  },
  {
   "cell_type": "code",
   "execution_count": null,
   "metadata": {},
   "outputs": [],
   "source": []
  },
  {
   "cell_type": "code",
   "execution_count": null,
   "metadata": {},
   "outputs": [],
   "source": []
  }
 ],
 "metadata": {
  "kernelspec": {
   "display_name": "Python 3",
   "language": "python",
   "name": "python3"
  },
  "language_info": {
   "codemirror_mode": {
    "name": "ipython",
    "version": 3
   },
   "file_extension": ".py",
   "mimetype": "text/x-python",
   "name": "python",
   "nbconvert_exporter": "python",
   "pygments_lexer": "ipython3",
   "version": "3.6.9"
  }
 },
 "nbformat": 4,
 "nbformat_minor": 2
}
